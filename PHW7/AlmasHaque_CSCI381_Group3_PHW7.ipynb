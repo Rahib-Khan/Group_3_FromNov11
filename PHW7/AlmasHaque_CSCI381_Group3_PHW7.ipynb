{
    "metadata": {
        "kernelspec": {
            "name": "SQL",
            "display_name": "SQL",
            "language": "sql"
        },
        "language_info": {
            "name": "sql",
            "version": ""
        }
    },
    "nbformat_minor": 2,
    "nbformat": 4,
    "cells": [
        {
            "cell_type": "code",
            "source": [
                "SELECT SalesOrderID, OrderDate, TotalDue, \r\n",
                "       SUM(TotalDue) OVER(ORDER BY OrderDate\r\n",
                "                          ROWS BETWEEN UNBOUNDED PRECEDING AND CURRENT ROW) AS RunningTotal\r\n",
                "FROM Sales.SalesOrderHeader\r\n",
                "ORDER BY OrderDate;\r\n",
                ""
            ],
            "metadata": {
                "azdata_cell_guid": "b02f45d6-8a8d-4d1a-b579-5f8c25286a7c",
                "language": "sql",
                "tags": []
            },
            "outputs": [],
            "execution_count": null
        },
        {
            "cell_type": "markdown",
            "source": [
                "### 1\\. Calculate Running Total of Sales\n",
                "\n",
                "**Objective**: To demonstrate how to calculate the cumulative total of sales over time\n",
                "\n",
                "This query uses a window function to sum the `TotalDue` from all previous rows up to the current row, partitioned by the order date. It's useful for tracking the progression of sales and can be used in financial reporting or monitoring company performance over time."
            ],
            "metadata": {
                "language": "sql",
                "azdata_cell_guid": "a5698287-2217-4871-9b76-aa802d80d9b0"
            },
            "attachments": {}
        },
        {
            "cell_type": "code",
            "source": [
                "SELECT ProductID, Name, ProductNumber, ListPrice,\r\n",
                "       RANK() OVER(PARTITION BY ProductSubcategoryID ORDER BY ListPrice DESC) AS PriceRank\r\n",
                "FROM Production.Product\r\n",
                "WHERE ProductSubcategoryID IS NOT NULL;\r\n",
                ""
            ],
            "metadata": {
                "azdata_cell_guid": "5c33a2fc-3d85-4d2c-b87c-990b79510f75",
                "language": "sql"
            },
            "outputs": [],
            "execution_count": null
        },
        {
            "cell_type": "markdown",
            "source": [
                "2\\. Rank Products by List Price\n",
                "\n",
                "**Objective**: To rank products within each category based on their list prices in descending order\n",
                "\n",
                "Here, the `RANK()` function is used to assign a rank to each product within its category based on the list price. This can help in market analysis or inventory management to understand competitive pricing and product positioning."
            ],
            "metadata": {
                "language": "sql",
                "azdata_cell_guid": "f77cc71a-a56f-415b-a9d8-3df59e8283d1"
            },
            "attachments": {}
        },
        {
            "cell_type": "code",
            "source": [
                "SELECT SalesOrderID, OrderDate, TotalDue,\r\n",
                "       LAG(TotalDue) OVER(ORDER BY OrderDate, SalesOrderID) AS PreviousSale,\r\n",
                "       LEAD(TotalDue) OVER(ORDER BY OrderDate, SalesOrderID) AS NextSale\r\n",
                "FROM Sales.SalesOrderHeader;\r\n",
                ""
            ],
            "metadata": {
                "language": "sql",
                "azdata_cell_guid": "037f0696-6980-414c-9f11-6c22172072f1",
                "tags": []
            },
            "outputs": [],
            "execution_count": null
        },
        {
            "cell_type": "markdown",
            "source": [
                "### 3\\. Find Previous and Next Sale for Each Sales Order\n",
                "\n",
                "**Objective**: To identify preceding and succeeding sales for each order, aiding in sequential data analysis.   \n",
                " This query uses `LAG` and `LEAD` to look at the sales amount of the previous and next order. This is valuable for trend analysis or finding sales patterns over time."
            ],
            "metadata": {
                "language": "sql",
                "azdata_cell_guid": "e57ad4c8-17f3-471a-b6c0-525ee4887bc9"
            },
            "attachments": {}
        },
        {
            "cell_type": "code",
            "source": [
                "SELECT SalesOrderID, SalesPersonID, OrderDate,\r\n",
                "       FIRST_VALUE(SalesOrderID) OVER(PARTITION BY SalesPersonID\r\n",
                "                                      ORDER BY OrderDate\r\n",
                "                                      ROWS BETWEEN UNBOUNDED PRECEDING AND CURRENT ROW) AS FirstOrderID,\r\n",
                "       LAST_VALUE(SalesOrderID) OVER(PARTITION BY SalesPersonID\r\n",
                "                                     ORDER BY OrderDate\r\n",
                "                                     ROWS BETWEEN CURRENT ROW AND UNBOUNDED FOLLOWING) AS LastOrderID\r\n",
                "FROM Sales.SalesOrderHeader\r\n",
                "WHERE SalesPersonID IS NOT NULL;\r\n",
                ""
            ],
            "metadata": {
                "language": "sql",
                "azdata_cell_guid": "862018df-8ab1-45e3-a78b-ac986235fe71"
            },
            "outputs": [],
            "execution_count": null
        },
        {
            "cell_type": "markdown",
            "source": [
                "### 4\\. Get First and Last Sales Order of Each Employee\n",
                "\n",
                "**Objective**: To determine the first and last sales transactions handled by each salesperson. \n",
                "\n",
                "Using `FIRST_VALUE` and `LAST_VALUE`, this query identifies the very first and the most recent sales orders each salesperson processed. Useful for performance review and operational insights."
            ],
            "metadata": {
                "language": "sql",
                "azdata_cell_guid": "ad957e06-dc76-4ea0-b857-bdd3fae876fa"
            },
            "attachments": {}
        },
        {
            "cell_type": "code",
            "source": [
                "SELECT ProductSubcategoryID, SUM(LineTotal) OVER(PARTITION BY ProductSubcategoryID) AS CategorySalesTotal\r\n",
                "FROM Sales.SalesOrderDetail AS sod\r\n",
                "JOIN Production.Product AS p ON sod.ProductID = p.ProductID\r\n",
                "JOIN Production.ProductCategory AS pc ON p.ProductSubcategoryID = pc.ProductCategoryID;\r\n",
                ""
            ],
            "metadata": {
                "language": "sql",
                "azdata_cell_guid": "a74f9b8a-851a-41a2-a606-1e79758d61ef"
            },
            "outputs": [],
            "execution_count": null
        },
        {
            "cell_type": "markdown",
            "source": [
                "### 5\\. Total Sales by Product Category\n",
                "\n",
                "**Objective**: To calculate the total sales amount for each product category.\n",
                "\n",
                "This aggregate window function sums up sales by product category, allowing management to see which categories are most lucrative."
            ],
            "metadata": {
                "language": "sql",
                "azdata_cell_guid": "d4110191-7123-4b87-88ac-fe498bd1fe28"
            },
            "attachments": {}
        },
        {
            "cell_type": "code",
            "source": [
                "SELECT ProductID,\r\n",
                "       [2012] AS Sales2012,\r\n",
                "       [2013] AS Sales2013,\r\n",
                "       [2014] AS Sales2014\r\n",
                "FROM \r\n",
                "(\r\n",
                "    SELECT ProductID, YEAR(OrderDate) AS SaleYear, LineTotal\r\n",
                "    FROM Sales.SalesOrderDetail sod\r\n",
                "    JOIN Sales.SalesOrderHeader soh ON sod.SalesOrderID = soh.SalesOrderID\r\n",
                ") AS SourceTable\r\n",
                "PIVOT(\r\n",
                "    SUM(LineTotal)\r\n",
                "    FOR SaleYear IN ([2012], [2013], [2014])\r\n",
                ") AS PivotTable;\r\n",
                ""
            ],
            "metadata": {
                "language": "sql",
                "azdata_cell_guid": "3b291810-f896-4d5d-8039-4cf8afd24057"
            },
            "outputs": [],
            "execution_count": null
        },
        {
            "cell_type": "markdown",
            "source": [
                "6\\. Pivoting Sales Data\n",
                "\n",
                "**Objective**: To convert rows into columns, showing annual sales per product for three consecutive years.   \n",
                "This pivoting example restructures the dataset to show sales totals by year across the columns, facilitating easier year-over-year comparison."
            ],
            "metadata": {
                "language": "sql",
                "azdata_cell_guid": "7b4469e6-a329-4293-b5a5-9999e17b30d5"
            },
            "attachments": {}
        },
        {
            "cell_type": "code",
            "source": [
                "SELECT SalesPersonID, YEAR(OrderDate) AS SaleYear, SUM(TotalDue) AS TotalSales\r\n",
                "FROM Sales.SalesOrderHeader\r\n",
                "WHERE SalesPersonID IS NOT NULL\r\n",
                "GROUP BY ROLLUP(SalesPersonID, YEAR(OrderDate));\r\n",
                ""
            ],
            "metadata": {
                "language": "sql",
                "azdata_cell_guid": "3eae861f-1127-4a85-8e45-a82ba8fce636"
            },
            "outputs": [],
            "execution_count": null
        },
        {
            "cell_type": "markdown",
            "source": [
                "7\\. Using ROLLUP to Aggregate Sales Data\n",
                "\n",
                "**Objective**: To create a hierarchical aggregation of sales data first by salesperson, then by year.\n",
                "\n",
                "`ROLLUP` generates subtotals at multiple levels, aggregates across different dimensions (here, salesperson and year), and a grand total, enhancing the depth of financial analysis."
            ],
            "metadata": {
                "language": "sql",
                "azdata_cell_guid": "e13ab656-0216-4293-b39b-a31ef9dad2d0"
            },
            "attachments": {}
        },
        {
            "cell_type": "code",
            "source": [
                "SELECT SalesPersonID,\r\n",
                "       SUM(TotalDue) AS TotalSales,\r\n",
                "       ROW_NUMBER() OVER(ORDER BY SUM(TotalDue) DESC) AS SalesRank\r\n",
                "FROM Sales.SalesOrderHeader\r\n",
                "WHERE SalesPersonID IS NOT NULL\r\n",
                "GROUP BY SalesPersonID;\r\n",
                ""
            ],
            "metadata": {
                "language": "sql",
                "azdata_cell_guid": "8512f51f-3aab-4fce-84cf-ffcc59753f65"
            },
            "outputs": [],
            "execution_count": null
        },
        {
            "cell_type": "markdown",
            "source": [
                "### 8\\. Ranking Sales Representatives by Sales\n",
                "\n",
                "**Objective**: To determine the performance ranking of sales representatives based on their total sales.\n",
                "\n",
                "This uses `ROW_NUMBER` to rank salespeople by their sales achievements, critical for performance evaluations and incentivization strategies."
            ],
            "metadata": {
                "language": "sql",
                "azdata_cell_guid": "95e6a739-70b9-4f66-ac44-3c67c3f440d6"
            },
            "attachments": {}
        },
        {
            "cell_type": "code",
            "source": [
                "SELECT SalesOrderID, TotalDue,\r\n",
                "       100.0 * TotalDue / SUM(TotalDue) OVER() AS PercentOfTotalSales\r\n",
                "FROM Sales.SalesOrderHeader;\r\n",
                ""
            ],
            "metadata": {
                "language": "sql",
                "azdata_cell_guid": "12afc5f5-4237-407c-b52b-3570bd10c837"
            },
            "outputs": [],
            "execution_count": null
        },
        {
            "cell_type": "markdown",
            "source": [
                "### 9\\. Calculate Percentage of Total Sales per Order\n",
                "\n",
                "**Objective**: To find out what percentage of the total sales is contributed by each individual sale.\n",
                "\n",
                " This query calculates each order's contribution to total sales, useful for identifying key transactions or customer importance."
            ],
            "metadata": {
                "language": "sql",
                "azdata_cell_guid": "7bb057e0-e81b-4eda-b56a-2f856f0fe1ba"
            },
            "attachments": {}
        },
        {
            "cell_type": "code",
            "source": [
                "SELECT SalesOrderID, Attribute, Value\r\n",
                "FROM \r\n",
                "(\r\n",
                "    SELECT SalesOrderID, CreditCardApprovalCode, Comment\r\n",
                "    FROM Sales.SalesOrderHeader\r\n",
                ") AS p\r\n",
                "UNPIVOT\r\n",
                "(\r\n",
                "    Value FOR Attribute IN (CreditCardApprovalCode, Comment)\r\n",
                ") AS up;\r\n",
                ""
            ],
            "metadata": {
                "language": "sql",
                "azdata_cell_guid": "0f127096-4ce6-4279-ba51-194a6b08e56a"
            },
            "outputs": [],
            "execution_count": null
        },
        {
            "cell_type": "markdown",
            "source": [
                "### 10\\. Unpivot Sales Data\n",
                "\n",
                "**Objective**: To transform columns into rows, reversing the typical pivot table format.   \n",
                "\n",
                "The `UNPIVOT` function takes multiple column-based data and converts it into rows, making the data suitable for certain types of analysis or reporting."
            ],
            "metadata": {
                "language": "sql",
                "azdata_cell_guid": "b21e69fc-1b75-4064-8af6-ed049c477319"
            },
            "attachments": {}
        }
    ]
}