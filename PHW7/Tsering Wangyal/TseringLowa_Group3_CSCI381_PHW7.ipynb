{
    "metadata": {
        "kernelspec": {
            "name": "SQL",
            "display_name": "SQL",
            "language": "sql"
        },
        "language_info": {
            "name": "sql",
            "version": ""
        }
    },
    "nbformat_minor": 2,
    "nbformat": 4,
    "cells": [
        {
            "cell_type": "markdown",
            "source": [
                "Chapter 7 Exercise 5  \n",
                "\n",
                "- Write a query against the EmpYearOrders table that unpivots the data, returning a row for each employee and order year with the number of orders. Exclude rows in which the number of orders is 0 (in this example, employee 3 in the year 2015)"
            ],
            "metadata": {
                "azdata_cell_guid": "bcba6490-a7da-4127-b09b-237fc700c93e"
            },
            "attachments": {}
        },
        {
            "cell_type": "code",
            "source": [
                "USE TSQLV4\n",
                "SELECT empid, CAST(RIGHT(orderyear, 4) AS INT) AS orderyear, numorders\n",
                "FROM dbo.EmpYearOrders\n",
                "UNPIVOT(numorders FOR orderyear IN(cnt2014, cnt2015, cnt2016)) AS U\n",
                "WHERE numorders <> 0"
            ],
            "metadata": {
                "azdata_cell_guid": "f1597932-a982-4352-b13b-2e2026e20ea2",
                "language": "sql",
                "tags": []
            },
            "outputs": [],
            "execution_count": null
        },
        {
            "cell_type": "markdown",
            "source": [
                "1.  Identify the most expensive products within each sales order by assigning them a rank. \r\n",
                "For each SalesOrderID, this query ranks products from highest to lowest LineTotal. If two products within the same SalesOrderID have the same LineTotal, they’ll receive the same rank, and the next rank will skip a number."
            ],
            "metadata": {
                "azdata_cell_guid": "b16affb5-ebf0-4e2a-a8d2-2813b39aea41"
            },
            "attachments": {}
        },
        {
            "cell_type": "code",
            "source": [
                "use AdventureWorks2017\r\n",
                "SELECT \r\n",
                "    SalesOrderID, \r\n",
                "    ProductID, \r\n",
                "    LineTotal,\r\n",
                "    RANK() OVER (PARTITION BY SalesOrderID ORDER BY LineTotal DESC) AS ProductRank\r\n",
                "FROM Sales.SalesOrderDetail;\r\n",
                ""
            ],
            "metadata": {
                "azdata_cell_guid": "c16a9b9d-8fdf-4301-821a-02f061c1d612",
                "language": "sql"
            },
            "outputs": [],
            "execution_count": null
        },
        {
            "cell_type": "markdown",
            "source": [
                "2.  Return a list of orders with their order dates, subtotals, and a RunningTotal column that shows the cumulative subtotal for all orders up to that date within each year."
            ],
            "metadata": {
                "azdata_cell_guid": "7faa200b-ce05-4750-a28a-ad6c992e44f4"
            },
            "attachments": {}
        },
        {
            "cell_type": "code",
            "source": [
                "use AdventureWorks2017\r\n",
                "SELECT \r\n",
                "    OrderDate, \r\n",
                "    SubTotal,\r\n",
                "    SUM(SubTotal) OVER (PARTITION BY YEAR(OrderDate) ORDER BY OrderDate ROWS BETWEEN UNBOUNDED PRECEDING AND CURRENT ROW) AS RunningTotal\r\n",
                "FROM Sales.SalesOrderHeader;\r\n",
                ""
            ],
            "metadata": {
                "azdata_cell_guid": "497bfb30-8050-451b-a189-bd71674c1e52",
                "language": "sql"
            },
            "outputs": [],
            "execution_count": null
        },
        {
            "cell_type": "markdown",
            "source": [
                "3. Pivot sales data to create a table where each row shows the ProductSubcategoryID and its total sales in 2011, 2012, and 2013.\r\n",
                "The PIVOT function takes the data from SourceTable and reorganizes it so that each OrderYear (2011, 2012, 2013) becomes a separate column.\r\n",
                "SUM(LineTotal) aggregates the total sales (LineTotal) for each ProductSubcategoryID in each year."
            ],
            "metadata": {
                "azdata_cell_guid": "878427b7-1f86-45f1-a38d-c3a9d106057f"
            },
            "attachments": {}
        },
        {
            "cell_type": "code",
            "source": [
                "use AdventureWorks2017\r\n",
                "SELECT ProductSubcategoryID, [2011], [2012], [2013]\r\n",
                "FROM (\r\n",
                "    SELECT \r\n",
                "        ps.ProductSubcategoryID, \r\n",
                "        YEAR(soh.OrderDate) AS OrderYear, \r\n",
                "        sod.LineTotal\r\n",
                "    FROM \r\n",
                "        Sales.SalesOrderDetail sod\r\n",
                "    JOIN \r\n",
                "        Sales.SalesOrderHeader soh ON sod.SalesOrderID = soh.SalesOrderID\r\n",
                "    JOIN \r\n",
                "        Production.Product p ON sod.ProductID = p.ProductID\r\n",
                "    JOIN \r\n",
                "        Production.ProductSubcategory ps ON p.ProductSubcategoryID = ps.ProductSubcategoryID\r\n",
                ") AS SourceTable\r\n",
                "PIVOT (\r\n",
                "    SUM(LineTotal) \r\n",
                "    FOR OrderYear IN ([2011], [2012], [2013])\r\n",
                ") AS PivotedData;\r\n",
                ""
            ],
            "metadata": {
                "azdata_cell_guid": "74afa10d-0a3b-4691-b52c-d1dd97e3cc00",
                "language": "sql"
            },
            "outputs": [],
            "execution_count": null
        },
        {
            "cell_type": "markdown",
            "source": [
                "4. Getting a breakdown of sales by territory, by year, and by territory-year combinations in one result set."
            ],
            "metadata": {
                "azdata_cell_guid": "e398e05b-041a-4c89-b075-f617ab5b3364"
            },
            "attachments": {}
        },
        {
            "cell_type": "code",
            "source": [
                "use AdventureWorks2017\r\n",
                "SELECT \r\n",
                "    TerritoryID,\r\n",
                "    YEAR(OrderDate) AS OrderYear,\r\n",
                "    SUM(TotalDue) AS TotalSales\r\n",
                "FROM \r\n",
                "    Sales.SalesOrderHeader\r\n",
                "GROUP BY \r\n",
                "    GROUPING SETS ((TerritoryID), (YEAR(OrderDate)), (TerritoryID, YEAR(OrderDate)));\r\n",
                ""
            ],
            "metadata": {
                "azdata_cell_guid": "724b2341-6c15-453f-b68b-a9ec4a5e50b9",
                "language": "sql"
            },
            "outputs": [],
            "execution_count": null
        },
        {
            "cell_type": "markdown",
            "source": [
                "5. A running total of sales (cumulative sales) for each order, where the cumulative value increases as each new order is added, sorted by OrderDate. This is to track the total sales over time."
            ],
            "metadata": {
                "language": "sql",
                "azdata_cell_guid": "c67ce26a-7653-480e-b7e8-eaff26bfab08"
            },
            "attachments": {}
        },
        {
            "cell_type": "code",
            "source": [
                "use AdventureWorks2017\r\n",
                "SELECT \r\n",
                "    SalesOrderID,\r\n",
                "    OrderDate,\r\n",
                "    TotalDue,\r\n",
                "    SUM(TotalDue) OVER (ORDER BY OrderDate ROWS BETWEEN UNBOUNDED PRECEDING AND CURRENT ROW) AS CumulativeSales\r\n",
                "FROM \r\n",
                "    Sales.SalesOrderHeader;\r\n",
                ""
            ],
            "metadata": {
                "language": "sql",
                "azdata_cell_guid": "07bb3adb-6348-4a94-bac7-4635195ad689"
            },
            "outputs": [],
            "execution_count": null
        },
        {
            "cell_type": "markdown",
            "source": [
                "6.  Provide a breakdown of sales for each product by year, along with the sales from the previous year and the change in sales (growth or decline) compared to the previous year."
            ],
            "metadata": {
                "language": "sql",
                "azdata_cell_guid": "68edc7b5-d9f4-43dc-87be-807a05644b4f"
            },
            "attachments": {}
        },
        {
            "cell_type": "code",
            "source": [
                "use AdventureWorks2017\r\n",
                "SELECT \r\n",
                "    ProductID,\r\n",
                "    YEAR(OrderDate) AS OrderYear,\r\n",
                "    SUM(LineTotal) AS YearlySales,\r\n",
                "    LAG(SUM(LineTotal)) OVER (PARTITION BY ProductID ORDER BY YEAR(OrderDate)) AS PreviousYearSales,\r\n",
                "    SUM(LineTotal) - LAG(SUM(LineTotal)) OVER (PARTITION BY ProductID ORDER BY YEAR(OrderDate)) AS SalesGrowth\r\n",
                "FROM \r\n",
                "    Sales.SalesOrderDetail sod\r\n",
                "JOIN \r\n",
                "    Sales.SalesOrderHeader soh ON sod.SalesOrderID = soh.SalesOrderID\r\n",
                "GROUP BY \r\n",
                "    ProductID, YEAR(OrderDate);\r\n",
                ""
            ],
            "metadata": {
                "language": "sql",
                "azdata_cell_guid": "f10db674-aada-4496-988b-1d7ab1dd2b10"
            },
            "outputs": [],
            "execution_count": null
        },
        {
            "cell_type": "markdown",
            "source": [
                "7\\. Project total sales for specific territories, for specific years, and overall.<span style=\"color: var(--vscode-foreground);\">The </span> `ROLLUP` <span style=\"color: var(--vscode-foreground);\"> operator creates multiple summary levels:</span>\n",
                "\n",
                "- First, it calculates sales for each `TerritoryID` and `OrderYear`.\n",
                "- Then, it calculates subtotal sales for each territory across all years.\n",
                "- Finally, it calculates the grand total sales across all territories and years."
            ],
            "metadata": {
                "language": "sql",
                "azdata_cell_guid": "1066ce7d-b387-4e93-89e8-58ba23924fab"
            },
            "attachments": {}
        },
        {
            "cell_type": "code",
            "source": [
                "use AdventureWorks2017\r\n",
                "SELECT \r\n",
                "    TerritoryID,\r\n",
                "    YEAR(OrderDate) AS OrderYear,\r\n",
                "    SUM(TotalDue) AS TotalSales\r\n",
                "FROM \r\n",
                "    Sales.SalesOrderHeader\r\n",
                "GROUP BY \r\n",
                "    ROLLUP (TerritoryID, YEAR(OrderDate));\r\n",
                ""
            ],
            "metadata": {
                "language": "sql",
                "azdata_cell_guid": "d086fb16-f417-4a9c-84c2-63f8f046560e"
            },
            "outputs": [],
            "execution_count": null
        },
        {
            "cell_type": "markdown",
            "source": [
                "8. Rank each sales order for each year based on the TotalDue amount. The highest sales order amount for each year gets a rank of 1, and the rank number increases for the lower amounts. If two orders have the same TotalDue, they will share the same rank, and the next order will have the next available rank number."
            ],
            "metadata": {
                "azdata_cell_guid": "6df2359a-9824-4c53-a7dc-287ee51bc1cb"
            },
            "attachments": {}
        },
        {
            "cell_type": "code",
            "source": [
                "use AdventureWorks2017\r\n",
                "SELECT \r\n",
                "    SalesOrderID,\r\n",
                "    YEAR(OrderDate) AS OrderYear,\r\n",
                "    TotalDue,\r\n",
                "    RANK() OVER (PARTITION BY YEAR(OrderDate) ORDER BY TotalDue DESC) AS SalesRank\r\n",
                "FROM \r\n",
                "    Sales.SalesOrderHeader;\r\n",
                ""
            ],
            "metadata": {
                "azdata_cell_guid": "eaacea76-21e6-43e7-9387-707f4df457e4",
                "language": "sql"
            },
            "outputs": [],
            "execution_count": null
        },
        {
            "cell_type": "markdown",
            "source": [
                "9. Calculates how each sales order ranks as a percentage of total sales within each sales territory. The rank is based on the TotalDue value, where the highest TotalDue within each territory gets the highest percentage rank (closer to 1) and the lowest gets the lowest rank (closer to 0). It helps understand where each sales order stands within its territory in terms of total sales."
            ],
            "metadata": {
                "azdata_cell_guid": "c878310f-dfb6-4cc3-a539-9527b7f1784a"
            },
            "attachments": {}
        },
        {
            "cell_type": "code",
            "source": [
                "use AdventureWorks2017\r\n",
                "SELECT \r\n",
                "    TerritoryID,\r\n",
                "    SalesOrderID,\r\n",
                "    TotalDue,\r\n",
                "    PERCENT_RANK() OVER (PARTITION BY TerritoryID ORDER BY TotalDue DESC) AS SalesPercentRank\r\n",
                "FROM \r\n",
                "    Sales.SalesOrderHeader\r\n",
                "WHERE \r\n",
                "    TerritoryID IS NOT NULL;\r\n",
                ""
            ],
            "metadata": {
                "azdata_cell_guid": "648b5826-4bed-46f8-a190-95d7b52083d1",
                "language": "sql"
            },
            "outputs": [],
            "execution_count": null
        },
        {
            "cell_type": "markdown",
            "source": [
                "10\\. This query calculates the **total sales for each month** in the year 2013. It groups the sales orders by month, sums the sales for each month, and then displays the total sales for each month from January to December. The results are ordered by month, with the earliest month (January) appearing first."
            ],
            "metadata": {
                "azdata_cell_guid": "0ffbf90c-a53a-4238-aedb-eb164c9c7afb"
            },
            "attachments": {}
        },
        {
            "cell_type": "code",
            "source": [
                "use AdventureWorks2017\r\n",
                "SELECT \r\n",
                "    DATEPART(MONTH, OrderDate) AS OrderMonth,\r\n",
                "    SUM(TotalDue) AS MonthlySales\r\n",
                "FROM \r\n",
                "    Sales.SalesOrderHeader\r\n",
                "WHERE \r\n",
                "    YEAR(OrderDate) = 2013\r\n",
                "GROUP BY \r\n",
                "    DATEPART(MONTH, OrderDate)\r\n",
                "ORDER BY \r\n",
                "    OrderMonth;\r\n",
                ""
            ],
            "metadata": {
                "azdata_cell_guid": "29e960ca-bab0-4e3c-912d-2157ac37b0db",
                "language": "sql"
            },
            "outputs": [],
            "execution_count": null
        }
    ]
}