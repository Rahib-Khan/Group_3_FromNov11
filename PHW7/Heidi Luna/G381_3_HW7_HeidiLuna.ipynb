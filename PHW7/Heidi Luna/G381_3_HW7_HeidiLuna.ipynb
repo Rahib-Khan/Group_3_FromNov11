{
    "metadata": {
        "kernelspec": {
            "name": "SQL",
            "display_name": "SQL",
            "language": "sql"
        },
        "language_info": {
            "name": "sql",
            "version": ""
        }
    },
    "nbformat_minor": 2,
    "nbformat": 4,
    "cells": [
        {
            "cell_type": "markdown",
            "source": [
                "# PHW7: Chapter 7 - Beyond the Fundamentals of Querying"
            ],
            "metadata": {
                "azdata_cell_guid": "0dad8687-8ac4-4b19-8916-c99b26b487da"
            },
            "attachments": {}
        },
        {
            "cell_type": "markdown",
            "source": [
                "## Assigned Exercise: Exercise 2 "
            ],
            "metadata": {
                "azdata_cell_guid": "bf2be72e-0783-481f-b81d-0621f6c08fe6"
            },
            "attachments": {}
        },
        {
            "cell_type": "markdown",
            "source": [
                "### <u>Task: </u>\n",
                "The following query against the Sales.OrderValues view returns distinct values and their associated row numbers\n",
                "\n",
                "```\n",
                "USE TSQLV4;\n",
                "SELECT val, ROW_NUMBER() OVER(ORDER BY val) AS rownum\n",
                "FROM Sales.OrderValues\n",
                "GROUP BY val;\n",
                "```\n",
                "**Can you think of an alternative way to achieve the same task?**\n",
                "\n",
                "### <u>Tables Involved: </u>\n",
                "TSQLV4 Database, Sales.OrderValues View\n",
                "\n",
                "### <u>Desired Output:</u> \n",
                "\n",
                "```\n",
                "val       rownum\n",
                "--------- -------\n",
                "12.50     1\n",
                "18.40     2\n",
                "23.80     3\n",
                "28.00     4\n",
                "30.00     5\n",
                "33.75     6\n",
                "36.00     7\n",
                "40.00     8\n",
                "45.00     9\n",
                "48.00     10\n",
                "...\n",
                "12615.05  793\n",
                "15810.00  794\n",
                "16387.50  795\n",
                "\n",
                "(795 row(s) affected)\n",
                "\n",
                "```\n",
                ""
            ],
            "metadata": {
                "azdata_cell_guid": "97c6295f-285c-49b4-bcc4-7a5024437b54"
            },
            "attachments": {}
        },
        {
            "cell_type": "code",
            "source": [
                "USE TSQLV4;\n",
                "\n",
                "WITH C AS\n",
                "(\n",
                "  SELECT DISTINCT val\n",
                "  FROM Sales.OrderValues\n",
                ")\n",
                "SELECT val, ROW_NUMBER() OVER(ORDER BY val) AS rownum\n",
                "FROM C;\n",
                " "
            ],
            "metadata": {
                "azdata_cell_guid": "fda73653-03c6-45f1-8ef6-6fec3311edf2",
                "language": "sql"
            },
            "outputs": [
                {
                    "output_type": "display_data",
                    "data": {
                        "text/html": "(795 rows affected)"
                    },
                    "metadata": {}
                },
                {
                    "output_type": "display_data",
                    "data": {
                        "text/html": "Total execution time: 00:00:00.090"
                    },
                    "metadata": {}
                },
                {
                    "output_type": "execute_result",
                    "metadata": {},
                    "execution_count": 2,
                    "data": {
                        "application/vnd.dataresource+json": {
                            "schema": {
                                "fields": [
                                    {
                                        "name": "val"
                                    },
                                    {
                                        "name": "rownum"
                                    }
                                ]
                            },
                            "data": [
                                {
                                    "val": "12.50",
                                    "rownum": "1"
                                },
                                {
                                    "val": "18.40",
                                    "rownum": "2"
                                },
                                {
                                    "val": "23.80",
                                    "rownum": "3"
                                },
                                {
                                    "val": "28.00",
                                    "rownum": "4"
                                },
                                {
                                    "val": "30.00",
                                    "rownum": "5"
                                },
                                {
                                    "val": "33.75",
                                    "rownum": "6"
                                },
                                {
                                    "val": "36.00",
                                    "rownum": "7"
                                },
                                {
                                    "val": "40.00",
                                    "rownum": "8"
                                },
                                {
                                    "val": "45.00",
                                    "rownum": "9"
                                },
                                {
                                    "val": "48.00",
                                    "rownum": "10"
                                },
                                {
                                    "val": "48.75",
                                    "rownum": "11"
                                },
                                {
                                    "val": "49.80",
                                    "rownum": "12"
                                },
                                {
                                    "val": "52.35",
                                    "rownum": "13"
                                },
                                {
                                    "val": "55.20",
                                    "rownum": "14"
                                },
                                {
                                    "val": "55.80",
                                    "rownum": "15"
                                },
                                {
                                    "val": "57.50",
                                    "rownum": "16"
                                },
                                {
                                    "val": "57.80",
                                    "rownum": "17"
                                },
                                {
                                    "val": "60.00",
                                    "rownum": "18"
                                },
                                {
                                    "val": "63.00",
                                    "rownum": "19"
                                },
                                {
                                    "val": "69.60",
                                    "rownum": "20"
                                },
                                {
                                    "val": "70.00",
                                    "rownum": "21"
                                },
                                {
                                    "val": "72.00",
                                    "rownum": "22"
                                },
                                {
                                    "val": "72.96",
                                    "rownum": "23"
                                },
                                {
                                    "val": "74.40",
                                    "rownum": "24"
                                },
                                {
                                    "val": "76.00",
                                    "rownum": "25"
                                },
                                {
                                    "val": "80.10",
                                    "rownum": "26"
                                },
                                {
                                    "val": "86.40",
                                    "rownum": "27"
                                },
                                {
                                    "val": "86.50",
                                    "rownum": "28"
                                },
                                {
                                    "val": "86.85",
                                    "rownum": "29"
                                },
                                {
                                    "val": "88.00",
                                    "rownum": "30"
                                },
                                {
                                    "val": "88.50",
                                    "rownum": "31"
                                },
                                {
                                    "val": "88.80",
                                    "rownum": "32"
                                },
                                {
                                    "val": "93.50",
                                    "rownum": "33"
                                },
                                {
                                    "val": "96.50",
                                    "rownum": "34"
                                },
                                {
                                    "val": "98.40",
                                    "rownum": "35"
                                },
                                {
                                    "val": "100.80",
                                    "rownum": "36"
                                },
                                {
                                    "val": "102.40",
                                    "rownum": "37"
                                },
                                {
                                    "val": "103.20",
                                    "rownum": "38"
                                },
                                {
                                    "val": "108.00",
                                    "rownum": "39"
                                },
                                {
                                    "val": "108.50",
                                    "rownum": "40"
                                },
                                {
                                    "val": "110.00",
                                    "rownum": "41"
                                },
                                {
                                    "val": "112.00",
                                    "rownum": "42"
                                },
                                {
                                    "val": "114.00",
                                    "rownum": "43"
                                },
                                {
                                    "val": "120.00",
                                    "rownum": "44"
                                },
                                {
                                    "val": "121.60",
                                    "rownum": "45"
                                },
                                {
                                    "val": "122.40",
                                    "rownum": "46"
                                },
                                {
                                    "val": "125.00",
                                    "rownum": "47"
                                },
                                {
                                    "val": "131.75",
                                    "rownum": "48"
                                },
                                {
                                    "val": "136.00",
                                    "rownum": "49"
                                },
                                {
                                    "val": "136.30",
                                    "rownum": "50"
                                },
                                {
                                    "val": "136.80",
                                    "rownum": "51"
                                },
                                {
                                    "val": "137.50",
                                    "rownum": "52"
                                },
                                {
                                    "val": "139.80",
                                    "rownum": "53"
                                },
                                {
                                    "val": "140.00",
                                    "rownum": "54"
                                },
                                {
                                    "val": "141.60",
                                    "rownum": "55"
                                },
                                {
                                    "val": "142.50",
                                    "rownum": "56"
                                },
                                {
                                    "val": "144.00",
                                    "rownum": "57"
                                },
                                {
                                    "val": "144.80",
                                    "rownum": "58"
                                },
                                {
                                    "val": "147.00",
                                    "rownum": "59"
                                },
                                {
                                    "val": "147.90",
                                    "rownum": "60"
                                },
                                {
                                    "val": "149.00",
                                    "rownum": "61"
                                },
                                {
                                    "val": "150.00",
                                    "rownum": "62"
                                },
                                {
                                    "val": "154.40",
                                    "rownum": "63"
                                },
                                {
                                    "val": "155.00",
                                    "rownum": "64"
                                },
                                {
                                    "val": "155.40",
                                    "rownum": "65"
                                },
                                {
                                    "val": "156.00",
                                    "rownum": "66"
                                },
                                {
                                    "val": "159.00",
                                    "rownum": "67"
                                },
                                {
                                    "val": "160.00",
                                    "rownum": "68"
                                },
                                {
                                    "val": "164.40",
                                    "rownum": "69"
                                },
                                {
                                    "val": "166.00",
                                    "rownum": "70"
                                },
                                {
                                    "val": "174.90",
                                    "rownum": "71"
                                },
                                {
                                    "val": "176.10",
                                    "rownum": "72"
                                },
                                {
                                    "val": "180.40",
                                    "rownum": "73"
                                },
                                {
                                    "val": "180.48",
                                    "rownum": "74"
                                },
                                {
                                    "val": "182.40",
                                    "rownum": "75"
                                },
                                {
                                    "val": "187.00",
                                    "rownum": "76"
                                },
                                {
                                    "val": "189.42",
                                    "rownum": "77"
                                },
                                {
                                    "val": "190.00",
                                    "rownum": "78"
                                },
                                {
                                    "val": "191.10",
                                    "rownum": "79"
                                },
                                {
                                    "val": "192.00",
                                    "rownum": "80"
                                },
                                {
                                    "val": "200.00",
                                    "rownum": "81"
                                },
                                {
                                    "val": "210.00",
                                    "rownum": "82"
                                },
                                {
                                    "val": "211.20",
                                    "rownum": "83"
                                },
                                {
                                    "val": "216.00",
                                    "rownum": "84"
                                },
                                {
                                    "val": "220.00",
                                    "rownum": "85"
                                },
                                {
                                    "val": "224.00",
                                    "rownum": "86"
                                },
                                {
                                    "val": "224.83",
                                    "rownum": "87"
                                },
                                {
                                    "val": "225.50",
                                    "rownum": "88"
                                },
                                {
                                    "val": "228.00",
                                    "rownum": "89"
                                },
                                {
                                    "val": "230.40",
                                    "rownum": "90"
                                },
                                {
                                    "val": "230.85",
                                    "rownum": "91"
                                },
                                {
                                    "val": "232.09",
                                    "rownum": "92"
                                },
                                {
                                    "val": "235.20",
                                    "rownum": "93"
                                },
                                {
                                    "val": "236.25",
                                    "rownum": "94"
                                },
                                {
                                    "val": "237.90",
                                    "rownum": "95"
                                },
                                {
                                    "val": "240.00",
                                    "rownum": "96"
                                },
                                {
                                    "val": "240.10",
                                    "rownum": "97"
                                },
                                {
                                    "val": "240.40",
                                    "rownum": "98"
                                },
                                {
                                    "val": "243.18",
                                    "rownum": "99"
                                },
                                {
                                    "val": "245.00",
                                    "rownum": "100"
                                },
                                {
                                    "val": "246.24",
                                    "rownum": "101"
                                },
                                {
                                    "val": "248.00",
                                    "rownum": "102"
                                },
                                {
                                    "val": "250.80",
                                    "rownum": "103"
                                },
                                {
                                    "val": "251.50",
                                    "rownum": "104"
                                },
                                {
                                    "val": "252.00",
                                    "rownum": "105"
                                },
                                {
                                    "val": "259.51",
                                    "rownum": "106"
                                },
                                {
                                    "val": "265.35",
                                    "rownum": "107"
                                },
                                {
                                    "val": "266.00",
                                    "rownum": "108"
                                },
                                {
                                    "val": "268.80",
                                    "rownum": "109"
                                },
                                {
                                    "val": "270.00",
                                    "rownum": "110"
                                },
                                {
                                    "val": "273.60",
                                    "rownum": "111"
                                },
                                {
                                    "val": "278.00",
                                    "rownum": "112"
                                },
                                {
                                    "val": "282.00",
                                    "rownum": "113"
                                },
                                {
                                    "val": "285.12",
                                    "rownum": "114"
                                },
                                {
                                    "val": "287.80",
                                    "rownum": "115"
                                },
                                {
                                    "val": "288.00",
                                    "rownum": "116"
                                },
                                {
                                    "val": "291.55",
                                    "rownum": "117"
                                },
                                {
                                    "val": "291.84",
                                    "rownum": "118"
                                },
                                {
                                    "val": "295.38",
                                    "rownum": "119"
                                },
                                {
                                    "val": "299.25",
                                    "rownum": "120"
                                },
                                {
                                    "val": "300.00",
                                    "rownum": "121"
                                },
                                {
                                    "val": "305.00",
                                    "rownum": "122"
                                },
                                {
                                    "val": "310.00",
                                    "rownum": "123"
                                },
                                {
                                    "val": "314.76",
                                    "rownum": "124"
                                },
                                {
                                    "val": "317.75",
                                    "rownum": "125"
                                },
                                {
                                    "val": "318.84",
                                    "rownum": "126"
                                },
                                {
                                    "val": "319.20",
                                    "rownum": "127"
                                },
                                {
                                    "val": "320.00",
                                    "rownum": "128"
                                },
                                {
                                    "val": "321.12",
                                    "rownum": "129"
                                },
                                {
                                    "val": "326.00",
                                    "rownum": "130"
                                },
                                {
                                    "val": "329.69",
                                    "rownum": "131"
                                },
                                {
                                    "val": "330.00",
                                    "rownum": "132"
                                },
                                {
                                    "val": "331.20",
                                    "rownum": "133"
                                },
                                {
                                    "val": "334.80",
                                    "rownum": "134"
                                },
                                {
                                    "val": "336.00",
                                    "rownum": "135"
                                },
                                {
                                    "val": "336.80",
                                    "rownum": "136"
                                },
                                {
                                    "val": "338.00",
                                    "rownum": "137"
                                },
                                {
                                    "val": "338.20",
                                    "rownum": "138"
                                },
                                {
                                    "val": "342.00",
                                    "rownum": "139"
                                },
                                {
                                    "val": "344.00",
                                    "rownum": "140"
                                },
                                {
                                    "val": "346.56",
                                    "rownum": "141"
                                },
                                {
                                    "val": "349.50",
                                    "rownum": "142"
                                },
                                {
                                    "val": "351.00",
                                    "rownum": "143"
                                },
                                {
                                    "val": "352.00",
                                    "rownum": "144"
                                },
                                {
                                    "val": "352.60",
                                    "rownum": "145"
                                },
                                {
                                    "val": "353.20",
                                    "rownum": "146"
                                },
                                {
                                    "val": "355.50",
                                    "rownum": "147"
                                },
                                {
                                    "val": "360.00",
                                    "rownum": "148"
                                },
                                {
                                    "val": "361.00",
                                    "rownum": "149"
                                },
                                {
                                    "val": "363.60",
                                    "rownum": "150"
                                },
                                {
                                    "val": "365.89",
                                    "rownum": "151"
                                },
                                {
                                    "val": "368.93",
                                    "rownum": "152"
                                },
                                {
                                    "val": "372.38",
                                    "rownum": "153"
                                },
                                {
                                    "val": "375.50",
                                    "rownum": "154"
                                },
                                {
                                    "val": "378.00",
                                    "rownum": "155"
                                },
                                {
                                    "val": "386.20",
                                    "rownum": "156"
                                },
                                {
                                    "val": "387.50",
                                    "rownum": "157"
                                },
                                {
                                    "val": "390.00",
                                    "rownum": "158"
                                },
                                {
                                    "val": "392.20",
                                    "rownum": "159"
                                },
                                {
                                    "val": "393.00",
                                    "rownum": "160"
                                },
                                {
                                    "val": "397.80",
                                    "rownum": "161"
                                },
                                {
                                    "val": "399.00",
                                    "rownum": "162"
                                },
                                {
                                    "val": "399.85",
                                    "rownum": "163"
                                },
                                {
                                    "val": "400.00",
                                    "rownum": "164"
                                },
                                {
                                    "val": "403.20",
                                    "rownum": "165"
                                },
                                {
                                    "val": "405.75",
                                    "rownum": "166"
                                },
                                {
                                    "val": "406.40",
                                    "rownum": "167"
                                },
                                {
                                    "val": "407.70",
                                    "rownum": "168"
                                },
                                {
                                    "val": "412.35",
                                    "rownum": "169"
                                },
                                {
                                    "val": "415.80",
                                    "rownum": "170"
                                },
                                {
                                    "val": "417.20",
                                    "rownum": "171"
                                },
                                {
                                    "val": "420.00",
                                    "rownum": "172"
                                },
                                {
                                    "val": "424.00",
                                    "rownum": "173"
                                },
                                {
                                    "val": "425.12",
                                    "rownum": "174"
                                },
                                {
                                    "val": "427.50",
                                    "rownum": "175"
                                },
                                {
                                    "val": "429.40",
                                    "rownum": "176"
                                },
                                {
                                    "val": "439.00",
                                    "rownum": "177"
                                },
                                {
                                    "val": "439.20",
                                    "rownum": "178"
                                },
                                {
                                    "val": "439.60",
                                    "rownum": "179"
                                },
                                {
                                    "val": "440.00",
                                    "rownum": "180"
                                },
                                {
                                    "val": "441.15",
                                    "rownum": "181"
                                },
                                {
                                    "val": "442.00",
                                    "rownum": "182"
                                },
                                {
                                    "val": "443.40",
                                    "rownum": "183"
                                },
                                {
                                    "val": "446.60",
                                    "rownum": "184"
                                },
                                {
                                    "val": "447.20",
                                    "rownum": "185"
                                },
                                {
                                    "val": "448.00",
                                    "rownum": "186"
                                },
                                {
                                    "val": "450.00",
                                    "rownum": "187"
                                },
                                {
                                    "val": "452.90",
                                    "rownum": "188"
                                },
                                {
                                    "val": "454.00",
                                    "rownum": "189"
                                },
                                {
                                    "val": "456.00",
                                    "rownum": "190"
                                },
                                {
                                    "val": "458.76",
                                    "rownum": "191"
                                },
                                {
                                    "val": "459.00",
                                    "rownum": "192"
                                },
                                {
                                    "val": "464.00",
                                    "rownum": "193"
                                },
                                {
                                    "val": "465.70",
                                    "rownum": "194"
                                },
                                {
                                    "val": "468.45",
                                    "rownum": "195"
                                },
                                {
                                    "val": "469.11",
                                    "rownum": "196"
                                },
                                {
                                    "val": "471.20",
                                    "rownum": "197"
                                },
                                {
                                    "val": "472.50",
                                    "rownum": "198"
                                },
                                {
                                    "val": "475.11",
                                    "rownum": "199"
                                },
                                {
                                    "val": "475.15",
                                    "rownum": "200"
                                },
                                {
                                    "val": "477.00",
                                    "rownum": "201"
                                },
                                {
                                    "val": "479.40",
                                    "rownum": "202"
                                },
                                {
                                    "val": "479.75",
                                    "rownum": "203"
                                },
                                {
                                    "val": "479.80",
                                    "rownum": "204"
                                },
                                {
                                    "val": "480.00",
                                    "rownum": "205"
                                },
                                {
                                    "val": "484.26",
                                    "rownum": "206"
                                },
                                {
                                    "val": "484.50",
                                    "rownum": "207"
                                },
                                {
                                    "val": "485.00",
                                    "rownum": "208"
                                },
                                {
                                    "val": "488.70",
                                    "rownum": "209"
                                },
                                {
                                    "val": "491.50",
                                    "rownum": "210"
                                },
                                {
                                    "val": "493.00",
                                    "rownum": "211"
                                },
                                {
                                    "val": "497.52",
                                    "rownum": "212"
                                },
                                {
                                    "val": "498.10",
                                    "rownum": "213"
                                },
                                {
                                    "val": "498.50",
                                    "rownum": "214"
                                },
                                {
                                    "val": "500.00",
                                    "rownum": "215"
                                },
                                {
                                    "val": "507.00",
                                    "rownum": "216"
                                },
                                {
                                    "val": "510.00",
                                    "rownum": "217"
                                },
                                {
                                    "val": "514.40",
                                    "rownum": "218"
                                },
                                {
                                    "val": "516.00",
                                    "rownum": "219"
                                },
                                {
                                    "val": "516.47",
                                    "rownum": "220"
                                },
                                {
                                    "val": "516.80",
                                    "rownum": "221"
                                },
                                {
                                    "val": "517.44",
                                    "rownum": "222"
                                },
                                {
                                    "val": "517.80",
                                    "rownum": "223"
                                },
                                {
                                    "val": "519.00",
                                    "rownum": "224"
                                },
                                {
                                    "val": "520.41",
                                    "rownum": "225"
                                },
                                {
                                    "val": "523.26",
                                    "rownum": "226"
                                },
                                {
                                    "val": "525.00",
                                    "rownum": "227"
                                },
                                {
                                    "val": "525.30",
                                    "rownum": "228"
                                },
                                {
                                    "val": "534.85",
                                    "rownum": "229"
                                },
                                {
                                    "val": "536.40",
                                    "rownum": "230"
                                },
                                {
                                    "val": "537.50",
                                    "rownum": "231"
                                },
                                {
                                    "val": "538.60",
                                    "rownum": "232"
                                },
                                {
                                    "val": "539.40",
                                    "rownum": "233"
                                },
                                {
                                    "val": "539.50",
                                    "rownum": "234"
                                },
                                {
                                    "val": "550.00",
                                    "rownum": "235"
                                },
                                {
                                    "val": "550.59",
                                    "rownum": "236"
                                },
                                {
                                    "val": "556.62",
                                    "rownum": "237"
                                },
                                {
                                    "val": "557.60",
                                    "rownum": "238"
                                },
                                {
                                    "val": "558.00",
                                    "rownum": "239"
                                },
                                {
                                    "val": "560.00",
                                    "rownum": "240"
                                },
                                {
                                    "val": "562.60",
                                    "rownum": "241"
                                },
                                {
                                    "val": "565.50",
                                    "rownum": "242"
                                },
                                {
                                    "val": "568.80",
                                    "rownum": "243"
                                },
                                {
                                    "val": "569.00",
                                    "rownum": "244"
                                },
                                {
                                    "val": "570.00",
                                    "rownum": "245"
                                },
                                {
                                    "val": "575.00",
                                    "rownum": "246"
                                },
                                {
                                    "val": "581.00",
                                    "rownum": "247"
                                },
                                {
                                    "val": "584.00",
                                    "rownum": "248"
                                },
                                {
                                    "val": "586.00",
                                    "rownum": "249"
                                },
                                {
                                    "val": "589.00",
                                    "rownum": "250"
                                },
                                {
                                    "val": "591.60",
                                    "rownum": "251"
                                },
                                {
                                    "val": "593.75",
                                    "rownum": "252"
                                },
                                {
                                    "val": "595.50",
                                    "rownum": "253"
                                },
                                {
                                    "val": "601.83",
                                    "rownum": "254"
                                },
                                {
                                    "val": "602.40",
                                    "rownum": "255"
                                },
                                {
                                    "val": "604.22",
                                    "rownum": "256"
                                },
                                {
                                    "val": "605.00",
                                    "rownum": "257"
                                },
                                {
                                    "val": "608.00",
                                    "rownum": "258"
                                },
                                {
                                    "val": "608.40",
                                    "rownum": "259"
                                },
                                {
                                    "val": "611.30",
                                    "rownum": "260"
                                },
                                {
                                    "val": "613.20",
                                    "rownum": "261"
                                },
                                {
                                    "val": "616.00",
                                    "rownum": "262"
                                },
                                {
                                    "val": "616.50",
                                    "rownum": "263"
                                },
                                {
                                    "val": "619.50",
                                    "rownum": "264"
                                },
                                {
                                    "val": "622.35",
                                    "rownum": "265"
                                },
                                {
                                    "val": "625.00",
                                    "rownum": "266"
                                },
                                {
                                    "val": "625.28",
                                    "rownum": "267"
                                },
                                {
                                    "val": "629.00",
                                    "rownum": "268"
                                },
                                {
                                    "val": "629.50",
                                    "rownum": "269"
                                },
                                {
                                    "val": "631.60",
                                    "rownum": "270"
                                },
                                {
                                    "val": "632.40",
                                    "rownum": "271"
                                },
                                {
                                    "val": "636.00",
                                    "rownum": "272"
                                },
                                {
                                    "val": "637.50",
                                    "rownum": "273"
                                },
                                {
                                    "val": "638.50",
                                    "rownum": "274"
                                },
                                {
                                    "val": "639.90",
                                    "rownum": "275"
                                },
                                {
                                    "val": "642.00",
                                    "rownum": "276"
                                },
                                {
                                    "val": "642.06",
                                    "rownum": "277"
                                },
                                {
                                    "val": "642.20",
                                    "rownum": "278"
                                },
                                {
                                    "val": "644.80",
                                    "rownum": "279"
                                },
                                {
                                    "val": "645.00",
                                    "rownum": "280"
                                },
                                {
                                    "val": "649.00",
                                    "rownum": "281"
                                },
                                {
                                    "val": "651.00",
                                    "rownum": "282"
                                },
                                {
                                    "val": "654.06",
                                    "rownum": "283"
                                },
                                {
                                    "val": "655.00",
                                    "rownum": "284"
                                },
                                {
                                    "val": "660.00",
                                    "rownum": "285"
                                },
                                {
                                    "val": "663.10",
                                    "rownum": "286"
                                },
                                {
                                    "val": "668.80",
                                    "rownum": "287"
                                },
                                {
                                    "val": "670.00",
                                    "rownum": "288"
                                },
                                {
                                    "val": "677.00",
                                    "rownum": "289"
                                },
                                {
                                    "val": "678.00",
                                    "rownum": "290"
                                },
                                {
                                    "val": "683.30",
                                    "rownum": "291"
                                },
                                {
                                    "val": "686.00",
                                    "rownum": "292"
                                },
                                {
                                    "val": "686.70",
                                    "rownum": "293"
                                },
                                {
                                    "val": "691.20",
                                    "rownum": "294"
                                },
                                {
                                    "val": "695.63",
                                    "rownum": "295"
                                },
                                {
                                    "val": "696.00",
                                    "rownum": "296"
                                },
                                {
                                    "val": "706.00",
                                    "rownum": "297"
                                },
                                {
                                    "val": "708.75",
                                    "rownum": "298"
                                },
                                {
                                    "val": "709.55",
                                    "rownum": "299"
                                },
                                {
                                    "val": "711.00",
                                    "rownum": "300"
                                },
                                {
                                    "val": "713.30",
                                    "rownum": "301"
                                },
                                {
                                    "val": "716.72",
                                    "rownum": "302"
                                },
                                {
                                    "val": "717.50",
                                    "rownum": "303"
                                },
                                {
                                    "val": "717.60",
                                    "rownum": "304"
                                },
                                {
                                    "val": "718.08",
                                    "rownum": "305"
                                },
                                {
                                    "val": "720.00",
                                    "rownum": "306"
                                },
                                {
                                    "val": "720.90",
                                    "rownum": "307"
                                },
                                {
                                    "val": "722.50",
                                    "rownum": "308"
                                },
                                {
                                    "val": "730.00",
                                    "rownum": "309"
                                },
                                {
                                    "val": "731.50",
                                    "rownum": "310"
                                },
                                {
                                    "val": "732.60",
                                    "rownum": "311"
                                },
                                {
                                    "val": "735.00",
                                    "rownum": "312"
                                },
                                {
                                    "val": "736.00",
                                    "rownum": "313"
                                },
                                {
                                    "val": "742.50",
                                    "rownum": "314"
                                },
                                {
                                    "val": "748.80",
                                    "rownum": "315"
                                },
                                {
                                    "val": "749.06",
                                    "rownum": "316"
                                },
                                {
                                    "val": "750.50",
                                    "rownum": "317"
                                },
                                {
                                    "val": "755.00",
                                    "rownum": "318"
                                },
                                {
                                    "val": "756.00",
                                    "rownum": "319"
                                },
                                {
                                    "val": "758.50",
                                    "rownum": "320"
                                },
                                {
                                    "val": "764.30",
                                    "rownum": "321"
                                },
                                {
                                    "val": "768.75",
                                    "rownum": "322"
                                },
                                {
                                    "val": "781.00",
                                    "rownum": "323"
                                },
                                {
                                    "val": "792.75",
                                    "rownum": "324"
                                },
                                {
                                    "val": "796.35",
                                    "rownum": "325"
                                },
                                {
                                    "val": "799.20",
                                    "rownum": "326"
                                },
                                {
                                    "val": "800.00",
                                    "rownum": "327"
                                },
                                {
                                    "val": "801.10",
                                    "rownum": "328"
                                },
                                {
                                    "val": "802.00",
                                    "rownum": "329"
                                },
                                {
                                    "val": "805.43",
                                    "rownum": "330"
                                },
                                {
                                    "val": "807.38",
                                    "rownum": "331"
                                },
                                {
                                    "val": "808.00",
                                    "rownum": "332"
                                },
                                {
                                    "val": "810.00",
                                    "rownum": "333"
                                },
                                {
                                    "val": "812.50",
                                    "rownum": "334"
                                },
                                {
                                    "val": "813.37",
                                    "rownum": "335"
                                },
                                {
                                    "val": "814.42",
                                    "rownum": "336"
                                },
                                {
                                    "val": "814.50",
                                    "rownum": "337"
                                },
                                {
                                    "val": "816.30",
                                    "rownum": "338"
                                },
                                {
                                    "val": "817.88",
                                    "rownum": "339"
                                },
                                {
                                    "val": "818.40",
                                    "rownum": "340"
                                },
                                {
                                    "val": "819.00",
                                    "rownum": "341"
                                },
                                {
                                    "val": "827.55",
                                    "rownum": "342"
                                },
                                {
                                    "val": "833.00",
                                    "rownum": "343"
                                },
                                {
                                    "val": "834.20",
                                    "rownum": "344"
                                },
                                {
                                    "val": "835.20",
                                    "rownum": "345"
                                },
                                {
                                    "val": "838.45",
                                    "rownum": "346"
                                },
                                {
                                    "val": "843.00",
                                    "rownum": "347"
                                },
                                {
                                    "val": "844.25",
                                    "rownum": "348"
                                },
                                {
                                    "val": "845.80",
                                    "rownum": "349"
                                },
                                {
                                    "val": "848.00",
                                    "rownum": "350"
                                },
                                {
                                    "val": "848.70",
                                    "rownum": "351"
                                },
                                {
                                    "val": "851.20",
                                    "rownum": "352"
                                },
                                {
                                    "val": "852.00",
                                    "rownum": "353"
                                },
                                {
                                    "val": "855.02",
                                    "rownum": "354"
                                },
                                {
                                    "val": "858.00",
                                    "rownum": "355"
                                },
                                {
                                    "val": "860.10",
                                    "rownum": "356"
                                },
                                {
                                    "val": "862.50",
                                    "rownum": "357"
                                },
                                {
                                    "val": "863.28",
                                    "rownum": "358"
                                },
                                {
                                    "val": "863.43",
                                    "rownum": "359"
                                },
                                {
                                    "val": "863.60",
                                    "rownum": "360"
                                },
                                {
                                    "val": "868.75",
                                    "rownum": "361"
                                },
                                {
                                    "val": "877.20",
                                    "rownum": "362"
                                },
                                {
                                    "val": "877.73",
                                    "rownum": "363"
                                },
                                {
                                    "val": "878.00",
                                    "rownum": "364"
                                },
                                {
                                    "val": "880.50",
                                    "rownum": "365"
                                },
                                {
                                    "val": "889.70",
                                    "rownum": "366"
                                },
                                {
                                    "val": "890.00",
                                    "rownum": "367"
                                },
                                {
                                    "val": "892.64",
                                    "rownum": "368"
                                },
                                {
                                    "val": "899.00",
                                    "rownum": "369"
                                },
                                {
                                    "val": "903.60",
                                    "rownum": "370"
                                },
                                {
                                    "val": "903.75",
                                    "rownum": "371"
                                },
                                {
                                    "val": "906.93",
                                    "rownum": "372"
                                },
                                {
                                    "val": "910.40",
                                    "rownum": "373"
                                },
                                {
                                    "val": "912.00",
                                    "rownum": "374"
                                },
                                {
                                    "val": "914.40",
                                    "rownum": "375"
                                },
                                {
                                    "val": "917.00",
                                    "rownum": "376"
                                },
                                {
                                    "val": "920.10",
                                    "rownum": "377"
                                },
                                {
                                    "val": "920.60",
                                    "rownum": "378"
                                },
                                {
                                    "val": "923.88",
                                    "rownum": "379"
                                },
                                {
                                    "val": "928.75",
                                    "rownum": "380"
                                },
                                {
                                    "val": "931.50",
                                    "rownum": "381"
                                },
                                {
                                    "val": "932.00",
                                    "rownum": "382"
                                },
                                {
                                    "val": "932.05",
                                    "rownum": "383"
                                },
                                {
                                    "val": "933.50",
                                    "rownum": "384"
                                },
                                {
                                    "val": "934.50",
                                    "rownum": "385"
                                },
                                {
                                    "val": "940.50",
                                    "rownum": "386"
                                },
                                {
                                    "val": "946.00",
                                    "rownum": "387"
                                },
                                {
                                    "val": "950.00",
                                    "rownum": "388"
                                },
                                {
                                    "val": "954.40",
                                    "rownum": "389"
                                },
                                {
                                    "val": "956.68",
                                    "rownum": "390"
                                },
                                {
                                    "val": "965.00",
                                    "rownum": "391"
                                },
                                {
                                    "val": "966.80",
                                    "rownum": "392"
                                },
                                {
                                    "val": "967.82",
                                    "rownum": "393"
                                },
                                {
                                    "val": "975.00",
                                    "rownum": "394"
                                },
                                {
                                    "val": "975.88",
                                    "rownum": "395"
                                },
                                {
                                    "val": "982.00",
                                    "rownum": "396"
                                },
                                {
                                    "val": "996.00",
                                    "rownum": "397"
                                },
                                {
                                    "val": "997.00",
                                    "rownum": "398"
                                },
                                {
                                    "val": "1013.75",
                                    "rownum": "399"
                                },
                                {
                                    "val": "1014.00",
                                    "rownum": "400"
                                },
                                {
                                    "val": "1020.00",
                                    "rownum": "401"
                                },
                                {
                                    "val": "1025.33",
                                    "rownum": "402"
                                },
                                {
                                    "val": "1030.00",
                                    "rownum": "403"
                                },
                                {
                                    "val": "1030.76",
                                    "rownum": "404"
                                },
                                {
                                    "val": "1031.70",
                                    "rownum": "405"
                                },
                                {
                                    "val": "1036.80",
                                    "rownum": "406"
                                },
                                {
                                    "val": "1050.60",
                                    "rownum": "407"
                                },
                                {
                                    "val": "1058.40",
                                    "rownum": "408"
                                },
                                {
                                    "val": "1064.00",
                                    "rownum": "409"
                                },
                                {
                                    "val": "1064.50",
                                    "rownum": "410"
                                },
                                {
                                    "val": "1072.43",
                                    "rownum": "411"
                                },
                                {
                                    "val": "1078.00",
                                    "rownum": "412"
                                },
                                {
                                    "val": "1078.69",
                                    "rownum": "413"
                                },
                                {
                                    "val": "1080.00",
                                    "rownum": "414"
                                },
                                {
                                    "val": "1083.15",
                                    "rownum": "415"
                                },
                                {
                                    "val": "1096.20",
                                    "rownum": "416"
                                },
                                {
                                    "val": "1098.46",
                                    "rownum": "417"
                                },
                                {
                                    "val": "1101.00",
                                    "rownum": "418"
                                },
                                {
                                    "val": "1101.20",
                                    "rownum": "419"
                                },
                                {
                                    "val": "1106.40",
                                    "rownum": "420"
                                },
                                {
                                    "val": "1112.00",
                                    "rownum": "421"
                                },
                                {
                                    "val": "1117.60",
                                    "rownum": "422"
                                },
                                {
                                    "val": "1117.80",
                                    "rownum": "423"
                                },
                                {
                                    "val": "1119.90",
                                    "rownum": "424"
                                },
                                {
                                    "val": "1122.80",
                                    "rownum": "425"
                                },
                                {
                                    "val": "1130.40",
                                    "rownum": "426"
                                },
                                {
                                    "val": "1140.00",
                                    "rownum": "427"
                                },
                                {
                                    "val": "1151.40",
                                    "rownum": "428"
                                },
                                {
                                    "val": "1152.50",
                                    "rownum": "429"
                                },
                                {
                                    "val": "1167.68",
                                    "rownum": "430"
                                },
                                {
                                    "val": "1168.00",
                                    "rownum": "431"
                                },
                                {
                                    "val": "1170.38",
                                    "rownum": "432"
                                },
                                {
                                    "val": "1174.75",
                                    "rownum": "433"
                                },
                                {
                                    "val": "1176.00",
                                    "rownum": "434"
                                },
                                {
                                    "val": "1180.88",
                                    "rownum": "435"
                                },
                                {
                                    "val": "1185.75",
                                    "rownum": "436"
                                },
                                {
                                    "val": "1191.20",
                                    "rownum": "437"
                                },
                                {
                                    "val": "1193.01",
                                    "rownum": "438"
                                },
                                {
                                    "val": "1194.00",
                                    "rownum": "439"
                                },
                                {
                                    "val": "1194.27",
                                    "rownum": "440"
                                },
                                {
                                    "val": "1196.00",
                                    "rownum": "441"
                                },
                                {
                                    "val": "1197.95",
                                    "rownum": "442"
                                },
                                {
                                    "val": "1200.80",
                                    "rownum": "443"
                                },
                                {
                                    "val": "1209.00",
                                    "rownum": "444"
                                },
                                {
                                    "val": "1227.02",
                                    "rownum": "445"
                                },
                                {
                                    "val": "1228.80",
                                    "rownum": "446"
                                },
                                {
                                    "val": "1233.48",
                                    "rownum": "447"
                                },
                                {
                                    "val": "1234.05",
                                    "rownum": "448"
                                },
                                {
                                    "val": "1249.10",
                                    "rownum": "449"
                                },
                                {
                                    "val": "1255.72",
                                    "rownum": "450"
                                },
                                {
                                    "val": "1260.00",
                                    "rownum": "451"
                                },
                                {
                                    "val": "1261.88",
                                    "rownum": "452"
                                },
                                {
                                    "val": "1270.75",
                                    "rownum": "453"
                                },
                                {
                                    "val": "1272.00",
                                    "rownum": "454"
                                },
                                {
                                    "val": "1286.80",
                                    "rownum": "455"
                                },
                                {
                                    "val": "1287.40",
                                    "rownum": "456"
                                },
                                {
                                    "val": "1288.39",
                                    "rownum": "457"
                                },
                                {
                                    "val": "1295.00",
                                    "rownum": "458"
                                },
                                {
                                    "val": "1296.00",
                                    "rownum": "459"
                                },
                                {
                                    "val": "1296.75",
                                    "rownum": "460"
                                },
                                {
                                    "val": "1303.20",
                                    "rownum": "461"
                                },
                                {
                                    "val": "1309.50",
                                    "rownum": "462"
                                },
                                {
                                    "val": "1313.82",
                                    "rownum": "463"
                                },
                                {
                                    "val": "1326.23",
                                    "rownum": "464"
                                },
                                {
                                    "val": "1328.00",
                                    "rownum": "465"
                                },
                                {
                                    "val": "1332.00",
                                    "rownum": "466"
                                },
                                {
                                    "val": "1335.00",
                                    "rownum": "467"
                                },
                                {
                                    "val": "1336.95",
                                    "rownum": "468"
                                },
                                {
                                    "val": "1342.95",
                                    "rownum": "469"
                                },
                                {
                                    "val": "1353.60",
                                    "rownum": "470"
                                },
                                {
                                    "val": "1366.40",
                                    "rownum": "471"
                                },
                                {
                                    "val": "1371.80",
                                    "rownum": "472"
                                },
                                {
                                    "val": "1376.00",
                                    "rownum": "473"
                                },
                                {
                                    "val": "1378.07",
                                    "rownum": "474"
                                },
                                {
                                    "val": "1380.60",
                                    "rownum": "475"
                                },
                                {
                                    "val": "1388.50",
                                    "rownum": "476"
                                },
                                {
                                    "val": "1393.24",
                                    "rownum": "477"
                                },
                                {
                                    "val": "1402.00",
                                    "rownum": "478"
                                },
                                {
                                    "val": "1402.50",
                                    "rownum": "479"
                                },
                                {
                                    "val": "1404.45",
                                    "rownum": "480"
                                },
                                {
                                    "val": "1407.50",
                                    "rownum": "481"
                                },
                                {
                                    "val": "1408.00",
                                    "rownum": "482"
                                },
                                {
                                    "val": "1411.00",
                                    "rownum": "483"
                                },
                                {
                                    "val": "1412.00",
                                    "rownum": "484"
                                },
                                {
                                    "val": "1414.80",
                                    "rownum": "485"
                                },
                                {
                                    "val": "1416.00",
                                    "rownum": "486"
                                },
                                {
                                    "val": "1420.00",
                                    "rownum": "487"
                                },
                                {
                                    "val": "1423.00",
                                    "rownum": "488"
                                },
                                {
                                    "val": "1432.71",
                                    "rownum": "489"
                                },
                                {
                                    "val": "1434.00",
                                    "rownum": "490"
                                },
                                {
                                    "val": "1440.00",
                                    "rownum": "491"
                                },
                                {
                                    "val": "1441.38",
                                    "rownum": "492"
                                },
                                {
                                    "val": "1442.50",
                                    "rownum": "493"
                                },
                                {
                                    "val": "1444.80",
                                    "rownum": "494"
                                },
                                {
                                    "val": "1446.00",
                                    "rownum": "495"
                                },
                                {
                                    "val": "1447.50",
                                    "rownum": "496"
                                },
                                {
                                    "val": "1456.00",
                                    "rownum": "497"
                                },
                                {
                                    "val": "1459.00",
                                    "rownum": "498"
                                },
                                {
                                    "val": "1468.94",
                                    "rownum": "499"
                                },
                                {
                                    "val": "1472.00",
                                    "rownum": "500"
                                },
                                {
                                    "val": "1477.00",
                                    "rownum": "501"
                                },
                                {
                                    "val": "1483.00",
                                    "rownum": "502"
                                },
                                {
                                    "val": "1485.80",
                                    "rownum": "503"
                                },
                                {
                                    "val": "1488.00",
                                    "rownum": "504"
                                },
                                {
                                    "val": "1488.80",
                                    "rownum": "505"
                                },
                                {
                                    "val": "1497.00",
                                    "rownum": "506"
                                },
                                {
                                    "val": "1498.35",
                                    "rownum": "507"
                                },
                                {
                                    "val": "1500.00",
                                    "rownum": "508"
                                },
                                {
                                    "val": "1501.09",
                                    "rownum": "509"
                                },
                                {
                                    "val": "1503.00",
                                    "rownum": "510"
                                },
                                {
                                    "val": "1503.60",
                                    "rownum": "511"
                                },
                                {
                                    "val": "1504.50",
                                    "rownum": "512"
                                },
                                {
                                    "val": "1504.65",
                                    "rownum": "513"
                                },
                                {
                                    "val": "1505.18",
                                    "rownum": "514"
                                },
                                {
                                    "val": "1512.00",
                                    "rownum": "515"
                                },
                                {
                                    "val": "1515.60",
                                    "rownum": "516"
                                },
                                {
                                    "val": "1531.08",
                                    "rownum": "517"
                                },
                                {
                                    "val": "1535.00",
                                    "rownum": "518"
                                },
                                {
                                    "val": "1536.80",
                                    "rownum": "519"
                                },
                                {
                                    "val": "1538.70",
                                    "rownum": "520"
                                },
                                {
                                    "val": "1539.00",
                                    "rownum": "521"
                                },
                                {
                                    "val": "1546.30",
                                    "rownum": "522"
                                },
                                {
                                    "val": "1549.60",
                                    "rownum": "523"
                                },
                                {
                                    "val": "1552.60",
                                    "rownum": "524"
                                },
                                {
                                    "val": "1553.50",
                                    "rownum": "525"
                                },
                                {
                                    "val": "1570.00",
                                    "rownum": "526"
                                },
                                {
                                    "val": "1575.00",
                                    "rownum": "527"
                                },
                                {
                                    "val": "1584.00",
                                    "rownum": "528"
                                },
                                {
                                    "val": "1590.56",
                                    "rownum": "529"
                                },
                                {
                                    "val": "1591.25",
                                    "rownum": "530"
                                },
                                {
                                    "val": "1609.28",
                                    "rownum": "531"
                                },
                                {
                                    "val": "1614.80",
                                    "rownum": "532"
                                },
                                {
                                    "val": "1614.88",
                                    "rownum": "533"
                                },
                                {
                                    "val": "1618.88",
                                    "rownum": "534"
                                },
                                {
                                    "val": "1622.40",
                                    "rownum": "535"
                                },
                                {
                                    "val": "1624.50",
                                    "rownum": "536"
                                },
                                {
                                    "val": "1629.98",
                                    "rownum": "537"
                                },
                                {
                                    "val": "1630.00",
                                    "rownum": "538"
                                },
                                {
                                    "val": "1631.48",
                                    "rownum": "539"
                                },
                                {
                                    "val": "1638.40",
                                    "rownum": "540"
                                },
                                {
                                    "val": "1641.00",
                                    "rownum": "541"
                                },
                                {
                                    "val": "1644.60",
                                    "rownum": "542"
                                },
                                {
                                    "val": "1645.00",
                                    "rownum": "543"
                                },
                                {
                                    "val": "1649.00",
                                    "rownum": "544"
                                },
                                {
                                    "val": "1659.20",
                                    "rownum": "545"
                                },
                                {
                                    "val": "1659.54",
                                    "rownum": "546"
                                },
                                {
                                    "val": "1677.30",
                                    "rownum": "547"
                                },
                                {
                                    "val": "1684.28",
                                    "rownum": "548"
                                },
                                {
                                    "val": "1689.78",
                                    "rownum": "549"
                                },
                                {
                                    "val": "1692.00",
                                    "rownum": "550"
                                },
                                {
                                    "val": "1692.80",
                                    "rownum": "551"
                                },
                                {
                                    "val": "1701.00",
                                    "rownum": "552"
                                },
                                {
                                    "val": "1707.84",
                                    "rownum": "553"
                                },
                                {
                                    "val": "1727.50",
                                    "rownum": "554"
                                },
                                {
                                    "val": "1728.53",
                                    "rownum": "555"
                                },
                                {
                                    "val": "1733.06",
                                    "rownum": "556"
                                },
                                {
                                    "val": "1743.36",
                                    "rownum": "557"
                                },
                                {
                                    "val": "1754.50",
                                    "rownum": "558"
                                },
                                {
                                    "val": "1755.00",
                                    "rownum": "559"
                                },
                                {
                                    "val": "1761.00",
                                    "rownum": "560"
                                },
                                {
                                    "val": "1762.00",
                                    "rownum": "561"
                                },
                                {
                                    "val": "1762.70",
                                    "rownum": "562"
                                },
                                {
                                    "val": "1764.00",
                                    "rownum": "563"
                                },
                                {
                                    "val": "1765.60",
                                    "rownum": "564"
                                },
                                {
                                    "val": "1768.00",
                                    "rownum": "565"
                                },
                                {
                                    "val": "1773.00",
                                    "rownum": "566"
                                },
                                {
                                    "val": "1779.20",
                                    "rownum": "567"
                                },
                                {
                                    "val": "1786.88",
                                    "rownum": "568"
                                },
                                {
                                    "val": "1788.45",
                                    "rownum": "569"
                                },
                                {
                                    "val": "1788.63",
                                    "rownum": "570"
                                },
                                {
                                    "val": "1792.00",
                                    "rownum": "571"
                                },
                                {
                                    "val": "1792.80",
                                    "rownum": "572"
                                },
                                {
                                    "val": "1809.75",
                                    "rownum": "573"
                                },
                                {
                                    "val": "1810.00",
                                    "rownum": "574"
                                },
                                {
                                    "val": "1811.10",
                                    "rownum": "575"
                                },
                                {
                                    "val": "1814.80",
                                    "rownum": "576"
                                },
                                {
                                    "val": "1820.80",
                                    "rownum": "577"
                                },
                                {
                                    "val": "1823.80",
                                    "rownum": "578"
                                },
                                {
                                    "val": "1829.76",
                                    "rownum": "579"
                                },
                                {
                                    "val": "1830.78",
                                    "rownum": "580"
                                },
                                {
                                    "val": "1832.80",
                                    "rownum": "581"
                                },
                                {
                                    "val": "1835.70",
                                    "rownum": "582"
                                },
                                {
                                    "val": "1838.00",
                                    "rownum": "583"
                                },
                                {
                                    "val": "1838.20",
                                    "rownum": "584"
                                },
                                {
                                    "val": "1840.64",
                                    "rownum": "585"
                                },
                                {
                                    "val": "1850.00",
                                    "rownum": "586"
                                },
                                {
                                    "val": "1863.40",
                                    "rownum": "587"
                                },
                                {
                                    "val": "1873.80",
                                    "rownum": "588"
                                },
                                {
                                    "val": "1885.00",
                                    "rownum": "589"
                                },
                                {
                                    "val": "1887.60",
                                    "rownum": "590"
                                },
                                {
                                    "val": "1890.50",
                                    "rownum": "591"
                                },
                                {
                                    "val": "1892.25",
                                    "rownum": "592"
                                },
                                {
                                    "val": "1893.00",
                                    "rownum": "593"
                                },
                                {
                                    "val": "1903.80",
                                    "rownum": "594"
                                },
                                {
                                    "val": "1912.85",
                                    "rownum": "595"
                                },
                                {
                                    "val": "1920.60",
                                    "rownum": "596"
                                },
                                {
                                    "val": "1924.25",
                                    "rownum": "597"
                                },
                                {
                                    "val": "1930.40",
                                    "rownum": "598"
                                },
                                {
                                    "val": "1936.00",
                                    "rownum": "599"
                                },
                                {
                                    "val": "1938.38",
                                    "rownum": "600"
                                },
                                {
                                    "val": "1940.85",
                                    "rownum": "601"
                                },
                                {
                                    "val": "1942.00",
                                    "rownum": "602"
                                },
                                {
                                    "val": "1946.52",
                                    "rownum": "603"
                                },
                                {
                                    "val": "1948.50",
                                    "rownum": "604"
                                },
                                {
                                    "val": "1955.13",
                                    "rownum": "605"
                                },
                                {
                                    "val": "1966.81",
                                    "rownum": "606"
                                },
                                {
                                    "val": "1974.00",
                                    "rownum": "607"
                                },
                                {
                                    "val": "1979.23",
                                    "rownum": "608"
                                },
                                {
                                    "val": "1990.00",
                                    "rownum": "609"
                                },
                                {
                                    "val": "1994.40",
                                    "rownum": "610"
                                },
                                {
                                    "val": "1994.52",
                                    "rownum": "611"
                                },
                                {
                                    "val": "2018.50",
                                    "rownum": "612"
                                },
                                {
                                    "val": "2023.38",
                                    "rownum": "613"
                                },
                                {
                                    "val": "2027.08",
                                    "rownum": "614"
                                },
                                {
                                    "val": "2030.40",
                                    "rownum": "615"
                                },
                                {
                                    "val": "2036.16",
                                    "rownum": "616"
                                },
                                {
                                    "val": "2037.28",
                                    "rownum": "617"
                                },
                                {
                                    "val": "2046.24",
                                    "rownum": "618"
                                },
                                {
                                    "val": "2048.21",
                                    "rownum": "619"
                                },
                                {
                                    "val": "2048.50",
                                    "rownum": "620"
                                },
                                {
                                    "val": "2052.50",
                                    "rownum": "621"
                                },
                                {
                                    "val": "2054.00",
                                    "rownum": "622"
                                },
                                {
                                    "val": "2058.46",
                                    "rownum": "623"
                                },
                                {
                                    "val": "2071.20",
                                    "rownum": "624"
                                },
                                {
                                    "val": "2082.00",
                                    "rownum": "625"
                                },
                                {
                                    "val": "2090.00",
                                    "rownum": "626"
                                },
                                {
                                    "val": "2090.88",
                                    "rownum": "627"
                                },
                                {
                                    "val": "2094.30",
                                    "rownum": "628"
                                },
                                {
                                    "val": "2097.60",
                                    "rownum": "629"
                                },
                                {
                                    "val": "2122.92",
                                    "rownum": "630"
                                },
                                {
                                    "val": "2123.20",
                                    "rownum": "631"
                                },
                                {
                                    "val": "2142.90",
                                    "rownum": "632"
                                },
                                {
                                    "val": "2147.40",
                                    "rownum": "633"
                                },
                                {
                                    "val": "2158.00",
                                    "rownum": "634"
                                },
                                {
                                    "val": "2160.00",
                                    "rownum": "635"
                                },
                                {
                                    "val": "2169.00",
                                    "rownum": "636"
                                },
                                {
                                    "val": "2196.00",
                                    "rownum": "637"
                                },
                                {
                                    "val": "2205.75",
                                    "rownum": "638"
                                },
                                {
                                    "val": "2220.00",
                                    "rownum": "639"
                                },
                                {
                                    "val": "2222.20",
                                    "rownum": "640"
                                },
                                {
                                    "val": "2222.40",
                                    "rownum": "641"
                                },
                                {
                                    "val": "2227.89",
                                    "rownum": "642"
                                },
                                {
                                    "val": "2233.00",
                                    "rownum": "643"
                                },
                                {
                                    "val": "2237.50",
                                    "rownum": "644"
                                },
                                {
                                    "val": "2255.50",
                                    "rownum": "645"
                                },
                                {
                                    "val": "2278.40",
                                    "rownum": "646"
                                },
                                {
                                    "val": "2285.00",
                                    "rownum": "647"
                                },
                                {
                                    "val": "2286.00",
                                    "rownum": "648"
                                },
                                {
                                    "val": "2296.00",
                                    "rownum": "649"
                                },
                                {
                                    "val": "2301.75",
                                    "rownum": "650"
                                },
                                {
                                    "val": "2310.00",
                                    "rownum": "651"
                                },
                                {
                                    "val": "2311.70",
                                    "rownum": "652"
                                },
                                {
                                    "val": "2314.20",
                                    "rownum": "653"
                                },
                                {
                                    "val": "2318.24",
                                    "rownum": "654"
                                },
                                {
                                    "val": "2341.36",
                                    "rownum": "655"
                                },
                                {
                                    "val": "2362.25",
                                    "rownum": "656"
                                },
                                {
                                    "val": "2381.05",
                                    "rownum": "657"
                                },
                                {
                                    "val": "2388.50",
                                    "rownum": "658"
                                },
                                {
                                    "val": "2390.40",
                                    "rownum": "659"
                                },
                                {
                                    "val": "2393.50",
                                    "rownum": "660"
                                },
                                {
                                    "val": "2436.18",
                                    "rownum": "661"
                                },
                                {
                                    "val": "2444.31",
                                    "rownum": "662"
                                },
                                {
                                    "val": "2465.25",
                                    "rownum": "663"
                                },
                                {
                                    "val": "2467.00",
                                    "rownum": "664"
                                },
                                {
                                    "val": "2490.50",
                                    "rownum": "665"
                                },
                                {
                                    "val": "2505.60",
                                    "rownum": "666"
                                },
                                {
                                    "val": "2518.00",
                                    "rownum": "667"
                                },
                                {
                                    "val": "2519.00",
                                    "rownum": "668"
                                },
                                {
                                    "val": "2545.00",
                                    "rownum": "669"
                                },
                                {
                                    "val": "2550.00",
                                    "rownum": "670"
                                },
                                {
                                    "val": "2556.95",
                                    "rownum": "671"
                                },
                                {
                                    "val": "2603.00",
                                    "rownum": "672"
                                },
                                {
                                    "val": "2622.76",
                                    "rownum": "673"
                                },
                                {
                                    "val": "2633.90",
                                    "rownum": "674"
                                },
                                {
                                    "val": "2645.00",
                                    "rownum": "675"
                                },
                                {
                                    "val": "2684.00",
                                    "rownum": "676"
                                },
                                {
                                    "val": "2684.40",
                                    "rownum": "677"
                                },
                                {
                                    "val": "2697.50",
                                    "rownum": "678"
                                },
                                {
                                    "val": "2708.80",
                                    "rownum": "679"
                                },
                                {
                                    "val": "2713.50",
                                    "rownum": "680"
                                },
                                {
                                    "val": "2720.05",
                                    "rownum": "681"
                                },
                                {
                                    "val": "2731.88",
                                    "rownum": "682"
                                },
                                {
                                    "val": "2753.10",
                                    "rownum": "683"
                                },
                                {
                                    "val": "2761.94",
                                    "rownum": "684"
                                },
                                {
                                    "val": "2769.00",
                                    "rownum": "685"
                                },
                                {
                                    "val": "2772.00",
                                    "rownum": "686"
                                },
                                {
                                    "val": "2775.00",
                                    "rownum": "687"
                                },
                                {
                                    "val": "2775.05",
                                    "rownum": "688"
                                },
                                {
                                    "val": "2812.00",
                                    "rownum": "689"
                                },
                                {
                                    "val": "2825.30",
                                    "rownum": "690"
                                },
                                {
                                    "val": "2826.00",
                                    "rownum": "691"
                                },
                                {
                                    "val": "2827.90",
                                    "rownum": "692"
                                },
                                {
                                    "val": "2835.00",
                                    "rownum": "693"
                                },
                                {
                                    "val": "2844.50",
                                    "rownum": "694"
                                },
                                {
                                    "val": "2864.50",
                                    "rownum": "695"
                                },
                                {
                                    "val": "2900.00",
                                    "rownum": "696"
                                },
                                {
                                    "val": "2917.00",
                                    "rownum": "697"
                                },
                                {
                                    "val": "2924.80",
                                    "rownum": "698"
                                },
                                {
                                    "val": "2942.81",
                                    "rownum": "699"
                                },
                                {
                                    "val": "2944.40",
                                    "rownum": "700"
                                },
                                {
                                    "val": "2966.50",
                                    "rownum": "701"
                                },
                                {
                                    "val": "2984.00",
                                    "rownum": "702"
                                },
                                {
                                    "val": "3016.00",
                                    "rownum": "703"
                                },
                                {
                                    "val": "3026.85",
                                    "rownum": "704"
                                },
                                {
                                    "val": "3055.00",
                                    "rownum": "705"
                                },
                                {
                                    "val": "3063.00",
                                    "rownum": "706"
                                },
                                {
                                    "val": "3082.00",
                                    "rownum": "707"
                                },
                                {
                                    "val": "3090.00",
                                    "rownum": "708"
                                },
                                {
                                    "val": "3118.00",
                                    "rownum": "709"
                                },
                                {
                                    "val": "3120.00",
                                    "rownum": "710"
                                },
                                {
                                    "val": "3127.50",
                                    "rownum": "711"
                                },
                                {
                                    "val": "3160.60",
                                    "rownum": "712"
                                },
                                {
                                    "val": "3163.20",
                                    "rownum": "713"
                                },
                                {
                                    "val": "3192.65",
                                    "rownum": "714"
                                },
                                {
                                    "val": "3232.80",
                                    "rownum": "715"
                                },
                                {
                                    "val": "3354.00",
                                    "rownum": "716"
                                },
                                {
                                    "val": "3424.00",
                                    "rownum": "717"
                                },
                                {
                                    "val": "3436.44",
                                    "rownum": "718"
                                },
                                {
                                    "val": "3463.00",
                                    "rownum": "719"
                                },
                                {
                                    "val": "3471.68",
                                    "rownum": "720"
                                },
                                {
                                    "val": "3523.40",
                                    "rownum": "721"
                                },
                                {
                                    "val": "3536.60",
                                    "rownum": "722"
                                },
                                {
                                    "val": "3554.28",
                                    "rownum": "723"
                                },
                                {
                                    "val": "3574.80",
                                    "rownum": "724"
                                },
                                {
                                    "val": "3584.00",
                                    "rownum": "725"
                                },
                                {
                                    "val": "3597.90",
                                    "rownum": "726"
                                },
                                {
                                    "val": "3603.22",
                                    "rownum": "727"
                                },
                                {
                                    "val": "3687.00",
                                    "rownum": "728"
                                },
                                {
                                    "val": "3740.00",
                                    "rownum": "729"
                                },
                                {
                                    "val": "3741.30",
                                    "rownum": "730"
                                },
                                {
                                    "val": "3812.70",
                                    "rownum": "731"
                                },
                                {
                                    "val": "3815.25",
                                    "rownum": "732"
                                },
                                {
                                    "val": "3849.66",
                                    "rownum": "733"
                                },
                                {
                                    "val": "3868.60",
                                    "rownum": "734"
                                },
                                {
                                    "val": "3891.00",
                                    "rownum": "735"
                                },
                                {
                                    "val": "4011.75",
                                    "rownum": "736"
                                },
                                {
                                    "val": "4109.70",
                                    "rownum": "737"
                                },
                                {
                                    "val": "4150.05",
                                    "rownum": "738"
                                },
                                {
                                    "val": "4180.00",
                                    "rownum": "739"
                                },
                                {
                                    "val": "4288.85",
                                    "rownum": "740"
                                },
                                {
                                    "val": "4330.40",
                                    "rownum": "741"
                                },
                                {
                                    "val": "4337.00",
                                    "rownum": "742"
                                },
                                {
                                    "val": "4371.60",
                                    "rownum": "743"
                                },
                                {
                                    "val": "4422.00",
                                    "rownum": "744"
                                },
                                {
                                    "val": "4441.25",
                                    "rownum": "745"
                                },
                                {
                                    "val": "4451.70",
                                    "rownum": "746"
                                },
                                {
                                    "val": "4464.60",
                                    "rownum": "747"
                                },
                                {
                                    "val": "4529.80",
                                    "rownum": "748"
                                },
                                {
                                    "val": "4578.43",
                                    "rownum": "749"
                                },
                                {
                                    "val": "4581.00",
                                    "rownum": "750"
                                },
                                {
                                    "val": "4666.94",
                                    "rownum": "751"
                                },
                                {
                                    "val": "4680.90",
                                    "rownum": "752"
                                },
                                {
                                    "val": "4705.50",
                                    "rownum": "753"
                                },
                                {
                                    "val": "4707.54",
                                    "rownum": "754"
                                },
                                {
                                    "val": "4725.00",
                                    "rownum": "755"
                                },
                                {
                                    "val": "4807.00",
                                    "rownum": "756"
                                },
                                {
                                    "val": "4813.50",
                                    "rownum": "757"
                                },
                                {
                                    "val": "4825.00",
                                    "rownum": "758"
                                },
                                {
                                    "val": "4895.44",
                                    "rownum": "759"
                                },
                                {
                                    "val": "4899.20",
                                    "rownum": "760"
                                },
                                {
                                    "val": "4924.14",
                                    "rownum": "761"
                                },
                                {
                                    "val": "4931.92",
                                    "rownum": "762"
                                },
                                {
                                    "val": "4960.90",
                                    "rownum": "763"
                                },
                                {
                                    "val": "4985.50",
                                    "rownum": "764"
                                },
                                {
                                    "val": "5218.00",
                                    "rownum": "765"
                                },
                                {
                                    "val": "5256.50",
                                    "rownum": "766"
                                },
                                {
                                    "val": "5275.72",
                                    "rownum": "767"
                                },
                                {
                                    "val": "5398.73",
                                    "rownum": "768"
                                },
                                {
                                    "val": "5502.11",
                                    "rownum": "769"
                                },
                                {
                                    "val": "5510.59",
                                    "rownum": "770"
                                },
                                {
                                    "val": "6200.55",
                                    "rownum": "771"
                                },
                                {
                                    "val": "6306.24",
                                    "rownum": "772"
                                },
                                {
                                    "val": "6375.00",
                                    "rownum": "773"
                                },
                                {
                                    "val": "6379.40",
                                    "rownum": "774"
                                },
                                {
                                    "val": "6475.40",
                                    "rownum": "775"
                                },
                                {
                                    "val": "6635.28",
                                    "rownum": "776"
                                },
                                {
                                    "val": "6750.00",
                                    "rownum": "777"
                                },
                                {
                                    "val": "7390.20",
                                    "rownum": "778"
                                },
                                {
                                    "val": "8446.45",
                                    "rownum": "779"
                                },
                                {
                                    "val": "8593.28",
                                    "rownum": "780"
                                },
                                {
                                    "val": "8623.45",
                                    "rownum": "781"
                                },
                                {
                                    "val": "8902.50",
                                    "rownum": "782"
                                },
                                {
                                    "val": "9194.56",
                                    "rownum": "783"
                                },
                                {
                                    "val": "9210.90",
                                    "rownum": "784"
                                },
                                {
                                    "val": "9921.30",
                                    "rownum": "785"
                                },
                                {
                                    "val": "10164.80",
                                    "rownum": "786"
                                },
                                {
                                    "val": "10191.70",
                                    "rownum": "787"
                                },
                                {
                                    "val": "10495.60",
                                    "rownum": "788"
                                },
                                {
                                    "val": "10835.24",
                                    "rownum": "789"
                                },
                                {
                                    "val": "10952.85",
                                    "rownum": "790"
                                },
                                {
                                    "val": "11188.40",
                                    "rownum": "791"
                                },
                                {
                                    "val": "11380.00",
                                    "rownum": "792"
                                },
                                {
                                    "val": "12615.05",
                                    "rownum": "793"
                                },
                                {
                                    "val": "15810.00",
                                    "rownum": "794"
                                },
                                {
                                    "val": "16387.50",
                                    "rownum": "795"
                                }
                            ]
                        },
                        "text/html": [
                            "<table>",
                            "<tr><th>val</th><th>rownum</th></tr>",
                            "<tr><td>12.50</td><td>1</td></tr>",
                            "<tr><td>18.40</td><td>2</td></tr>",
                            "<tr><td>23.80</td><td>3</td></tr>",
                            "<tr><td>28.00</td><td>4</td></tr>",
                            "<tr><td>30.00</td><td>5</td></tr>",
                            "<tr><td>33.75</td><td>6</td></tr>",
                            "<tr><td>36.00</td><td>7</td></tr>",
                            "<tr><td>40.00</td><td>8</td></tr>",
                            "<tr><td>45.00</td><td>9</td></tr>",
                            "<tr><td>48.00</td><td>10</td></tr>",
                            "<tr><td>48.75</td><td>11</td></tr>",
                            "<tr><td>49.80</td><td>12</td></tr>",
                            "<tr><td>52.35</td><td>13</td></tr>",
                            "<tr><td>55.20</td><td>14</td></tr>",
                            "<tr><td>55.80</td><td>15</td></tr>",
                            "<tr><td>57.50</td><td>16</td></tr>",
                            "<tr><td>57.80</td><td>17</td></tr>",
                            "<tr><td>60.00</td><td>18</td></tr>",
                            "<tr><td>63.00</td><td>19</td></tr>",
                            "<tr><td>69.60</td><td>20</td></tr>",
                            "<tr><td>70.00</td><td>21</td></tr>",
                            "<tr><td>72.00</td><td>22</td></tr>",
                            "<tr><td>72.96</td><td>23</td></tr>",
                            "<tr><td>74.40</td><td>24</td></tr>",
                            "<tr><td>76.00</td><td>25</td></tr>",
                            "<tr><td>80.10</td><td>26</td></tr>",
                            "<tr><td>86.40</td><td>27</td></tr>",
                            "<tr><td>86.50</td><td>28</td></tr>",
                            "<tr><td>86.85</td><td>29</td></tr>",
                            "<tr><td>88.00</td><td>30</td></tr>",
                            "<tr><td>88.50</td><td>31</td></tr>",
                            "<tr><td>88.80</td><td>32</td></tr>",
                            "<tr><td>93.50</td><td>33</td></tr>",
                            "<tr><td>96.50</td><td>34</td></tr>",
                            "<tr><td>98.40</td><td>35</td></tr>",
                            "<tr><td>100.80</td><td>36</td></tr>",
                            "<tr><td>102.40</td><td>37</td></tr>",
                            "<tr><td>103.20</td><td>38</td></tr>",
                            "<tr><td>108.00</td><td>39</td></tr>",
                            "<tr><td>108.50</td><td>40</td></tr>",
                            "<tr><td>110.00</td><td>41</td></tr>",
                            "<tr><td>112.00</td><td>42</td></tr>",
                            "<tr><td>114.00</td><td>43</td></tr>",
                            "<tr><td>120.00</td><td>44</td></tr>",
                            "<tr><td>121.60</td><td>45</td></tr>",
                            "<tr><td>122.40</td><td>46</td></tr>",
                            "<tr><td>125.00</td><td>47</td></tr>",
                            "<tr><td>131.75</td><td>48</td></tr>",
                            "<tr><td>136.00</td><td>49</td></tr>",
                            "<tr><td>136.30</td><td>50</td></tr>",
                            "<tr><td>136.80</td><td>51</td></tr>",
                            "<tr><td>137.50</td><td>52</td></tr>",
                            "<tr><td>139.80</td><td>53</td></tr>",
                            "<tr><td>140.00</td><td>54</td></tr>",
                            "<tr><td>141.60</td><td>55</td></tr>",
                            "<tr><td>142.50</td><td>56</td></tr>",
                            "<tr><td>144.00</td><td>57</td></tr>",
                            "<tr><td>144.80</td><td>58</td></tr>",
                            "<tr><td>147.00</td><td>59</td></tr>",
                            "<tr><td>147.90</td><td>60</td></tr>",
                            "<tr><td>149.00</td><td>61</td></tr>",
                            "<tr><td>150.00</td><td>62</td></tr>",
                            "<tr><td>154.40</td><td>63</td></tr>",
                            "<tr><td>155.00</td><td>64</td></tr>",
                            "<tr><td>155.40</td><td>65</td></tr>",
                            "<tr><td>156.00</td><td>66</td></tr>",
                            "<tr><td>159.00</td><td>67</td></tr>",
                            "<tr><td>160.00</td><td>68</td></tr>",
                            "<tr><td>164.40</td><td>69</td></tr>",
                            "<tr><td>166.00</td><td>70</td></tr>",
                            "<tr><td>174.90</td><td>71</td></tr>",
                            "<tr><td>176.10</td><td>72</td></tr>",
                            "<tr><td>180.40</td><td>73</td></tr>",
                            "<tr><td>180.48</td><td>74</td></tr>",
                            "<tr><td>182.40</td><td>75</td></tr>",
                            "<tr><td>187.00</td><td>76</td></tr>",
                            "<tr><td>189.42</td><td>77</td></tr>",
                            "<tr><td>190.00</td><td>78</td></tr>",
                            "<tr><td>191.10</td><td>79</td></tr>",
                            "<tr><td>192.00</td><td>80</td></tr>",
                            "<tr><td>200.00</td><td>81</td></tr>",
                            "<tr><td>210.00</td><td>82</td></tr>",
                            "<tr><td>211.20</td><td>83</td></tr>",
                            "<tr><td>216.00</td><td>84</td></tr>",
                            "<tr><td>220.00</td><td>85</td></tr>",
                            "<tr><td>224.00</td><td>86</td></tr>",
                            "<tr><td>224.83</td><td>87</td></tr>",
                            "<tr><td>225.50</td><td>88</td></tr>",
                            "<tr><td>228.00</td><td>89</td></tr>",
                            "<tr><td>230.40</td><td>90</td></tr>",
                            "<tr><td>230.85</td><td>91</td></tr>",
                            "<tr><td>232.09</td><td>92</td></tr>",
                            "<tr><td>235.20</td><td>93</td></tr>",
                            "<tr><td>236.25</td><td>94</td></tr>",
                            "<tr><td>237.90</td><td>95</td></tr>",
                            "<tr><td>240.00</td><td>96</td></tr>",
                            "<tr><td>240.10</td><td>97</td></tr>",
                            "<tr><td>240.40</td><td>98</td></tr>",
                            "<tr><td>243.18</td><td>99</td></tr>",
                            "<tr><td>245.00</td><td>100</td></tr>",
                            "<tr><td>246.24</td><td>101</td></tr>",
                            "<tr><td>248.00</td><td>102</td></tr>",
                            "<tr><td>250.80</td><td>103</td></tr>",
                            "<tr><td>251.50</td><td>104</td></tr>",
                            "<tr><td>252.00</td><td>105</td></tr>",
                            "<tr><td>259.51</td><td>106</td></tr>",
                            "<tr><td>265.35</td><td>107</td></tr>",
                            "<tr><td>266.00</td><td>108</td></tr>",
                            "<tr><td>268.80</td><td>109</td></tr>",
                            "<tr><td>270.00</td><td>110</td></tr>",
                            "<tr><td>273.60</td><td>111</td></tr>",
                            "<tr><td>278.00</td><td>112</td></tr>",
                            "<tr><td>282.00</td><td>113</td></tr>",
                            "<tr><td>285.12</td><td>114</td></tr>",
                            "<tr><td>287.80</td><td>115</td></tr>",
                            "<tr><td>288.00</td><td>116</td></tr>",
                            "<tr><td>291.55</td><td>117</td></tr>",
                            "<tr><td>291.84</td><td>118</td></tr>",
                            "<tr><td>295.38</td><td>119</td></tr>",
                            "<tr><td>299.25</td><td>120</td></tr>",
                            "<tr><td>300.00</td><td>121</td></tr>",
                            "<tr><td>305.00</td><td>122</td></tr>",
                            "<tr><td>310.00</td><td>123</td></tr>",
                            "<tr><td>314.76</td><td>124</td></tr>",
                            "<tr><td>317.75</td><td>125</td></tr>",
                            "<tr><td>318.84</td><td>126</td></tr>",
                            "<tr><td>319.20</td><td>127</td></tr>",
                            "<tr><td>320.00</td><td>128</td></tr>",
                            "<tr><td>321.12</td><td>129</td></tr>",
                            "<tr><td>326.00</td><td>130</td></tr>",
                            "<tr><td>329.69</td><td>131</td></tr>",
                            "<tr><td>330.00</td><td>132</td></tr>",
                            "<tr><td>331.20</td><td>133</td></tr>",
                            "<tr><td>334.80</td><td>134</td></tr>",
                            "<tr><td>336.00</td><td>135</td></tr>",
                            "<tr><td>336.80</td><td>136</td></tr>",
                            "<tr><td>338.00</td><td>137</td></tr>",
                            "<tr><td>338.20</td><td>138</td></tr>",
                            "<tr><td>342.00</td><td>139</td></tr>",
                            "<tr><td>344.00</td><td>140</td></tr>",
                            "<tr><td>346.56</td><td>141</td></tr>",
                            "<tr><td>349.50</td><td>142</td></tr>",
                            "<tr><td>351.00</td><td>143</td></tr>",
                            "<tr><td>352.00</td><td>144</td></tr>",
                            "<tr><td>352.60</td><td>145</td></tr>",
                            "<tr><td>353.20</td><td>146</td></tr>",
                            "<tr><td>355.50</td><td>147</td></tr>",
                            "<tr><td>360.00</td><td>148</td></tr>",
                            "<tr><td>361.00</td><td>149</td></tr>",
                            "<tr><td>363.60</td><td>150</td></tr>",
                            "<tr><td>365.89</td><td>151</td></tr>",
                            "<tr><td>368.93</td><td>152</td></tr>",
                            "<tr><td>372.38</td><td>153</td></tr>",
                            "<tr><td>375.50</td><td>154</td></tr>",
                            "<tr><td>378.00</td><td>155</td></tr>",
                            "<tr><td>386.20</td><td>156</td></tr>",
                            "<tr><td>387.50</td><td>157</td></tr>",
                            "<tr><td>390.00</td><td>158</td></tr>",
                            "<tr><td>392.20</td><td>159</td></tr>",
                            "<tr><td>393.00</td><td>160</td></tr>",
                            "<tr><td>397.80</td><td>161</td></tr>",
                            "<tr><td>399.00</td><td>162</td></tr>",
                            "<tr><td>399.85</td><td>163</td></tr>",
                            "<tr><td>400.00</td><td>164</td></tr>",
                            "<tr><td>403.20</td><td>165</td></tr>",
                            "<tr><td>405.75</td><td>166</td></tr>",
                            "<tr><td>406.40</td><td>167</td></tr>",
                            "<tr><td>407.70</td><td>168</td></tr>",
                            "<tr><td>412.35</td><td>169</td></tr>",
                            "<tr><td>415.80</td><td>170</td></tr>",
                            "<tr><td>417.20</td><td>171</td></tr>",
                            "<tr><td>420.00</td><td>172</td></tr>",
                            "<tr><td>424.00</td><td>173</td></tr>",
                            "<tr><td>425.12</td><td>174</td></tr>",
                            "<tr><td>427.50</td><td>175</td></tr>",
                            "<tr><td>429.40</td><td>176</td></tr>",
                            "<tr><td>439.00</td><td>177</td></tr>",
                            "<tr><td>439.20</td><td>178</td></tr>",
                            "<tr><td>439.60</td><td>179</td></tr>",
                            "<tr><td>440.00</td><td>180</td></tr>",
                            "<tr><td>441.15</td><td>181</td></tr>",
                            "<tr><td>442.00</td><td>182</td></tr>",
                            "<tr><td>443.40</td><td>183</td></tr>",
                            "<tr><td>446.60</td><td>184</td></tr>",
                            "<tr><td>447.20</td><td>185</td></tr>",
                            "<tr><td>448.00</td><td>186</td></tr>",
                            "<tr><td>450.00</td><td>187</td></tr>",
                            "<tr><td>452.90</td><td>188</td></tr>",
                            "<tr><td>454.00</td><td>189</td></tr>",
                            "<tr><td>456.00</td><td>190</td></tr>",
                            "<tr><td>458.76</td><td>191</td></tr>",
                            "<tr><td>459.00</td><td>192</td></tr>",
                            "<tr><td>464.00</td><td>193</td></tr>",
                            "<tr><td>465.70</td><td>194</td></tr>",
                            "<tr><td>468.45</td><td>195</td></tr>",
                            "<tr><td>469.11</td><td>196</td></tr>",
                            "<tr><td>471.20</td><td>197</td></tr>",
                            "<tr><td>472.50</td><td>198</td></tr>",
                            "<tr><td>475.11</td><td>199</td></tr>",
                            "<tr><td>475.15</td><td>200</td></tr>",
                            "<tr><td>477.00</td><td>201</td></tr>",
                            "<tr><td>479.40</td><td>202</td></tr>",
                            "<tr><td>479.75</td><td>203</td></tr>",
                            "<tr><td>479.80</td><td>204</td></tr>",
                            "<tr><td>480.00</td><td>205</td></tr>",
                            "<tr><td>484.26</td><td>206</td></tr>",
                            "<tr><td>484.50</td><td>207</td></tr>",
                            "<tr><td>485.00</td><td>208</td></tr>",
                            "<tr><td>488.70</td><td>209</td></tr>",
                            "<tr><td>491.50</td><td>210</td></tr>",
                            "<tr><td>493.00</td><td>211</td></tr>",
                            "<tr><td>497.52</td><td>212</td></tr>",
                            "<tr><td>498.10</td><td>213</td></tr>",
                            "<tr><td>498.50</td><td>214</td></tr>",
                            "<tr><td>500.00</td><td>215</td></tr>",
                            "<tr><td>507.00</td><td>216</td></tr>",
                            "<tr><td>510.00</td><td>217</td></tr>",
                            "<tr><td>514.40</td><td>218</td></tr>",
                            "<tr><td>516.00</td><td>219</td></tr>",
                            "<tr><td>516.47</td><td>220</td></tr>",
                            "<tr><td>516.80</td><td>221</td></tr>",
                            "<tr><td>517.44</td><td>222</td></tr>",
                            "<tr><td>517.80</td><td>223</td></tr>",
                            "<tr><td>519.00</td><td>224</td></tr>",
                            "<tr><td>520.41</td><td>225</td></tr>",
                            "<tr><td>523.26</td><td>226</td></tr>",
                            "<tr><td>525.00</td><td>227</td></tr>",
                            "<tr><td>525.30</td><td>228</td></tr>",
                            "<tr><td>534.85</td><td>229</td></tr>",
                            "<tr><td>536.40</td><td>230</td></tr>",
                            "<tr><td>537.50</td><td>231</td></tr>",
                            "<tr><td>538.60</td><td>232</td></tr>",
                            "<tr><td>539.40</td><td>233</td></tr>",
                            "<tr><td>539.50</td><td>234</td></tr>",
                            "<tr><td>550.00</td><td>235</td></tr>",
                            "<tr><td>550.59</td><td>236</td></tr>",
                            "<tr><td>556.62</td><td>237</td></tr>",
                            "<tr><td>557.60</td><td>238</td></tr>",
                            "<tr><td>558.00</td><td>239</td></tr>",
                            "<tr><td>560.00</td><td>240</td></tr>",
                            "<tr><td>562.60</td><td>241</td></tr>",
                            "<tr><td>565.50</td><td>242</td></tr>",
                            "<tr><td>568.80</td><td>243</td></tr>",
                            "<tr><td>569.00</td><td>244</td></tr>",
                            "<tr><td>570.00</td><td>245</td></tr>",
                            "<tr><td>575.00</td><td>246</td></tr>",
                            "<tr><td>581.00</td><td>247</td></tr>",
                            "<tr><td>584.00</td><td>248</td></tr>",
                            "<tr><td>586.00</td><td>249</td></tr>",
                            "<tr><td>589.00</td><td>250</td></tr>",
                            "<tr><td>591.60</td><td>251</td></tr>",
                            "<tr><td>593.75</td><td>252</td></tr>",
                            "<tr><td>595.50</td><td>253</td></tr>",
                            "<tr><td>601.83</td><td>254</td></tr>",
                            "<tr><td>602.40</td><td>255</td></tr>",
                            "<tr><td>604.22</td><td>256</td></tr>",
                            "<tr><td>605.00</td><td>257</td></tr>",
                            "<tr><td>608.00</td><td>258</td></tr>",
                            "<tr><td>608.40</td><td>259</td></tr>",
                            "<tr><td>611.30</td><td>260</td></tr>",
                            "<tr><td>613.20</td><td>261</td></tr>",
                            "<tr><td>616.00</td><td>262</td></tr>",
                            "<tr><td>616.50</td><td>263</td></tr>",
                            "<tr><td>619.50</td><td>264</td></tr>",
                            "<tr><td>622.35</td><td>265</td></tr>",
                            "<tr><td>625.00</td><td>266</td></tr>",
                            "<tr><td>625.28</td><td>267</td></tr>",
                            "<tr><td>629.00</td><td>268</td></tr>",
                            "<tr><td>629.50</td><td>269</td></tr>",
                            "<tr><td>631.60</td><td>270</td></tr>",
                            "<tr><td>632.40</td><td>271</td></tr>",
                            "<tr><td>636.00</td><td>272</td></tr>",
                            "<tr><td>637.50</td><td>273</td></tr>",
                            "<tr><td>638.50</td><td>274</td></tr>",
                            "<tr><td>639.90</td><td>275</td></tr>",
                            "<tr><td>642.00</td><td>276</td></tr>",
                            "<tr><td>642.06</td><td>277</td></tr>",
                            "<tr><td>642.20</td><td>278</td></tr>",
                            "<tr><td>644.80</td><td>279</td></tr>",
                            "<tr><td>645.00</td><td>280</td></tr>",
                            "<tr><td>649.00</td><td>281</td></tr>",
                            "<tr><td>651.00</td><td>282</td></tr>",
                            "<tr><td>654.06</td><td>283</td></tr>",
                            "<tr><td>655.00</td><td>284</td></tr>",
                            "<tr><td>660.00</td><td>285</td></tr>",
                            "<tr><td>663.10</td><td>286</td></tr>",
                            "<tr><td>668.80</td><td>287</td></tr>",
                            "<tr><td>670.00</td><td>288</td></tr>",
                            "<tr><td>677.00</td><td>289</td></tr>",
                            "<tr><td>678.00</td><td>290</td></tr>",
                            "<tr><td>683.30</td><td>291</td></tr>",
                            "<tr><td>686.00</td><td>292</td></tr>",
                            "<tr><td>686.70</td><td>293</td></tr>",
                            "<tr><td>691.20</td><td>294</td></tr>",
                            "<tr><td>695.63</td><td>295</td></tr>",
                            "<tr><td>696.00</td><td>296</td></tr>",
                            "<tr><td>706.00</td><td>297</td></tr>",
                            "<tr><td>708.75</td><td>298</td></tr>",
                            "<tr><td>709.55</td><td>299</td></tr>",
                            "<tr><td>711.00</td><td>300</td></tr>",
                            "<tr><td>713.30</td><td>301</td></tr>",
                            "<tr><td>716.72</td><td>302</td></tr>",
                            "<tr><td>717.50</td><td>303</td></tr>",
                            "<tr><td>717.60</td><td>304</td></tr>",
                            "<tr><td>718.08</td><td>305</td></tr>",
                            "<tr><td>720.00</td><td>306</td></tr>",
                            "<tr><td>720.90</td><td>307</td></tr>",
                            "<tr><td>722.50</td><td>308</td></tr>",
                            "<tr><td>730.00</td><td>309</td></tr>",
                            "<tr><td>731.50</td><td>310</td></tr>",
                            "<tr><td>732.60</td><td>311</td></tr>",
                            "<tr><td>735.00</td><td>312</td></tr>",
                            "<tr><td>736.00</td><td>313</td></tr>",
                            "<tr><td>742.50</td><td>314</td></tr>",
                            "<tr><td>748.80</td><td>315</td></tr>",
                            "<tr><td>749.06</td><td>316</td></tr>",
                            "<tr><td>750.50</td><td>317</td></tr>",
                            "<tr><td>755.00</td><td>318</td></tr>",
                            "<tr><td>756.00</td><td>319</td></tr>",
                            "<tr><td>758.50</td><td>320</td></tr>",
                            "<tr><td>764.30</td><td>321</td></tr>",
                            "<tr><td>768.75</td><td>322</td></tr>",
                            "<tr><td>781.00</td><td>323</td></tr>",
                            "<tr><td>792.75</td><td>324</td></tr>",
                            "<tr><td>796.35</td><td>325</td></tr>",
                            "<tr><td>799.20</td><td>326</td></tr>",
                            "<tr><td>800.00</td><td>327</td></tr>",
                            "<tr><td>801.10</td><td>328</td></tr>",
                            "<tr><td>802.00</td><td>329</td></tr>",
                            "<tr><td>805.43</td><td>330</td></tr>",
                            "<tr><td>807.38</td><td>331</td></tr>",
                            "<tr><td>808.00</td><td>332</td></tr>",
                            "<tr><td>810.00</td><td>333</td></tr>",
                            "<tr><td>812.50</td><td>334</td></tr>",
                            "<tr><td>813.37</td><td>335</td></tr>",
                            "<tr><td>814.42</td><td>336</td></tr>",
                            "<tr><td>814.50</td><td>337</td></tr>",
                            "<tr><td>816.30</td><td>338</td></tr>",
                            "<tr><td>817.88</td><td>339</td></tr>",
                            "<tr><td>818.40</td><td>340</td></tr>",
                            "<tr><td>819.00</td><td>341</td></tr>",
                            "<tr><td>827.55</td><td>342</td></tr>",
                            "<tr><td>833.00</td><td>343</td></tr>",
                            "<tr><td>834.20</td><td>344</td></tr>",
                            "<tr><td>835.20</td><td>345</td></tr>",
                            "<tr><td>838.45</td><td>346</td></tr>",
                            "<tr><td>843.00</td><td>347</td></tr>",
                            "<tr><td>844.25</td><td>348</td></tr>",
                            "<tr><td>845.80</td><td>349</td></tr>",
                            "<tr><td>848.00</td><td>350</td></tr>",
                            "<tr><td>848.70</td><td>351</td></tr>",
                            "<tr><td>851.20</td><td>352</td></tr>",
                            "<tr><td>852.00</td><td>353</td></tr>",
                            "<tr><td>855.02</td><td>354</td></tr>",
                            "<tr><td>858.00</td><td>355</td></tr>",
                            "<tr><td>860.10</td><td>356</td></tr>",
                            "<tr><td>862.50</td><td>357</td></tr>",
                            "<tr><td>863.28</td><td>358</td></tr>",
                            "<tr><td>863.43</td><td>359</td></tr>",
                            "<tr><td>863.60</td><td>360</td></tr>",
                            "<tr><td>868.75</td><td>361</td></tr>",
                            "<tr><td>877.20</td><td>362</td></tr>",
                            "<tr><td>877.73</td><td>363</td></tr>",
                            "<tr><td>878.00</td><td>364</td></tr>",
                            "<tr><td>880.50</td><td>365</td></tr>",
                            "<tr><td>889.70</td><td>366</td></tr>",
                            "<tr><td>890.00</td><td>367</td></tr>",
                            "<tr><td>892.64</td><td>368</td></tr>",
                            "<tr><td>899.00</td><td>369</td></tr>",
                            "<tr><td>903.60</td><td>370</td></tr>",
                            "<tr><td>903.75</td><td>371</td></tr>",
                            "<tr><td>906.93</td><td>372</td></tr>",
                            "<tr><td>910.40</td><td>373</td></tr>",
                            "<tr><td>912.00</td><td>374</td></tr>",
                            "<tr><td>914.40</td><td>375</td></tr>",
                            "<tr><td>917.00</td><td>376</td></tr>",
                            "<tr><td>920.10</td><td>377</td></tr>",
                            "<tr><td>920.60</td><td>378</td></tr>",
                            "<tr><td>923.88</td><td>379</td></tr>",
                            "<tr><td>928.75</td><td>380</td></tr>",
                            "<tr><td>931.50</td><td>381</td></tr>",
                            "<tr><td>932.00</td><td>382</td></tr>",
                            "<tr><td>932.05</td><td>383</td></tr>",
                            "<tr><td>933.50</td><td>384</td></tr>",
                            "<tr><td>934.50</td><td>385</td></tr>",
                            "<tr><td>940.50</td><td>386</td></tr>",
                            "<tr><td>946.00</td><td>387</td></tr>",
                            "<tr><td>950.00</td><td>388</td></tr>",
                            "<tr><td>954.40</td><td>389</td></tr>",
                            "<tr><td>956.68</td><td>390</td></tr>",
                            "<tr><td>965.00</td><td>391</td></tr>",
                            "<tr><td>966.80</td><td>392</td></tr>",
                            "<tr><td>967.82</td><td>393</td></tr>",
                            "<tr><td>975.00</td><td>394</td></tr>",
                            "<tr><td>975.88</td><td>395</td></tr>",
                            "<tr><td>982.00</td><td>396</td></tr>",
                            "<tr><td>996.00</td><td>397</td></tr>",
                            "<tr><td>997.00</td><td>398</td></tr>",
                            "<tr><td>1013.75</td><td>399</td></tr>",
                            "<tr><td>1014.00</td><td>400</td></tr>",
                            "<tr><td>1020.00</td><td>401</td></tr>",
                            "<tr><td>1025.33</td><td>402</td></tr>",
                            "<tr><td>1030.00</td><td>403</td></tr>",
                            "<tr><td>1030.76</td><td>404</td></tr>",
                            "<tr><td>1031.70</td><td>405</td></tr>",
                            "<tr><td>1036.80</td><td>406</td></tr>",
                            "<tr><td>1050.60</td><td>407</td></tr>",
                            "<tr><td>1058.40</td><td>408</td></tr>",
                            "<tr><td>1064.00</td><td>409</td></tr>",
                            "<tr><td>1064.50</td><td>410</td></tr>",
                            "<tr><td>1072.43</td><td>411</td></tr>",
                            "<tr><td>1078.00</td><td>412</td></tr>",
                            "<tr><td>1078.69</td><td>413</td></tr>",
                            "<tr><td>1080.00</td><td>414</td></tr>",
                            "<tr><td>1083.15</td><td>415</td></tr>",
                            "<tr><td>1096.20</td><td>416</td></tr>",
                            "<tr><td>1098.46</td><td>417</td></tr>",
                            "<tr><td>1101.00</td><td>418</td></tr>",
                            "<tr><td>1101.20</td><td>419</td></tr>",
                            "<tr><td>1106.40</td><td>420</td></tr>",
                            "<tr><td>1112.00</td><td>421</td></tr>",
                            "<tr><td>1117.60</td><td>422</td></tr>",
                            "<tr><td>1117.80</td><td>423</td></tr>",
                            "<tr><td>1119.90</td><td>424</td></tr>",
                            "<tr><td>1122.80</td><td>425</td></tr>",
                            "<tr><td>1130.40</td><td>426</td></tr>",
                            "<tr><td>1140.00</td><td>427</td></tr>",
                            "<tr><td>1151.40</td><td>428</td></tr>",
                            "<tr><td>1152.50</td><td>429</td></tr>",
                            "<tr><td>1167.68</td><td>430</td></tr>",
                            "<tr><td>1168.00</td><td>431</td></tr>",
                            "<tr><td>1170.38</td><td>432</td></tr>",
                            "<tr><td>1174.75</td><td>433</td></tr>",
                            "<tr><td>1176.00</td><td>434</td></tr>",
                            "<tr><td>1180.88</td><td>435</td></tr>",
                            "<tr><td>1185.75</td><td>436</td></tr>",
                            "<tr><td>1191.20</td><td>437</td></tr>",
                            "<tr><td>1193.01</td><td>438</td></tr>",
                            "<tr><td>1194.00</td><td>439</td></tr>",
                            "<tr><td>1194.27</td><td>440</td></tr>",
                            "<tr><td>1196.00</td><td>441</td></tr>",
                            "<tr><td>1197.95</td><td>442</td></tr>",
                            "<tr><td>1200.80</td><td>443</td></tr>",
                            "<tr><td>1209.00</td><td>444</td></tr>",
                            "<tr><td>1227.02</td><td>445</td></tr>",
                            "<tr><td>1228.80</td><td>446</td></tr>",
                            "<tr><td>1233.48</td><td>447</td></tr>",
                            "<tr><td>1234.05</td><td>448</td></tr>",
                            "<tr><td>1249.10</td><td>449</td></tr>",
                            "<tr><td>1255.72</td><td>450</td></tr>",
                            "<tr><td>1260.00</td><td>451</td></tr>",
                            "<tr><td>1261.88</td><td>452</td></tr>",
                            "<tr><td>1270.75</td><td>453</td></tr>",
                            "<tr><td>1272.00</td><td>454</td></tr>",
                            "<tr><td>1286.80</td><td>455</td></tr>",
                            "<tr><td>1287.40</td><td>456</td></tr>",
                            "<tr><td>1288.39</td><td>457</td></tr>",
                            "<tr><td>1295.00</td><td>458</td></tr>",
                            "<tr><td>1296.00</td><td>459</td></tr>",
                            "<tr><td>1296.75</td><td>460</td></tr>",
                            "<tr><td>1303.20</td><td>461</td></tr>",
                            "<tr><td>1309.50</td><td>462</td></tr>",
                            "<tr><td>1313.82</td><td>463</td></tr>",
                            "<tr><td>1326.23</td><td>464</td></tr>",
                            "<tr><td>1328.00</td><td>465</td></tr>",
                            "<tr><td>1332.00</td><td>466</td></tr>",
                            "<tr><td>1335.00</td><td>467</td></tr>",
                            "<tr><td>1336.95</td><td>468</td></tr>",
                            "<tr><td>1342.95</td><td>469</td></tr>",
                            "<tr><td>1353.60</td><td>470</td></tr>",
                            "<tr><td>1366.40</td><td>471</td></tr>",
                            "<tr><td>1371.80</td><td>472</td></tr>",
                            "<tr><td>1376.00</td><td>473</td></tr>",
                            "<tr><td>1378.07</td><td>474</td></tr>",
                            "<tr><td>1380.60</td><td>475</td></tr>",
                            "<tr><td>1388.50</td><td>476</td></tr>",
                            "<tr><td>1393.24</td><td>477</td></tr>",
                            "<tr><td>1402.00</td><td>478</td></tr>",
                            "<tr><td>1402.50</td><td>479</td></tr>",
                            "<tr><td>1404.45</td><td>480</td></tr>",
                            "<tr><td>1407.50</td><td>481</td></tr>",
                            "<tr><td>1408.00</td><td>482</td></tr>",
                            "<tr><td>1411.00</td><td>483</td></tr>",
                            "<tr><td>1412.00</td><td>484</td></tr>",
                            "<tr><td>1414.80</td><td>485</td></tr>",
                            "<tr><td>1416.00</td><td>486</td></tr>",
                            "<tr><td>1420.00</td><td>487</td></tr>",
                            "<tr><td>1423.00</td><td>488</td></tr>",
                            "<tr><td>1432.71</td><td>489</td></tr>",
                            "<tr><td>1434.00</td><td>490</td></tr>",
                            "<tr><td>1440.00</td><td>491</td></tr>",
                            "<tr><td>1441.38</td><td>492</td></tr>",
                            "<tr><td>1442.50</td><td>493</td></tr>",
                            "<tr><td>1444.80</td><td>494</td></tr>",
                            "<tr><td>1446.00</td><td>495</td></tr>",
                            "<tr><td>1447.50</td><td>496</td></tr>",
                            "<tr><td>1456.00</td><td>497</td></tr>",
                            "<tr><td>1459.00</td><td>498</td></tr>",
                            "<tr><td>1468.94</td><td>499</td></tr>",
                            "<tr><td>1472.00</td><td>500</td></tr>",
                            "<tr><td>1477.00</td><td>501</td></tr>",
                            "<tr><td>1483.00</td><td>502</td></tr>",
                            "<tr><td>1485.80</td><td>503</td></tr>",
                            "<tr><td>1488.00</td><td>504</td></tr>",
                            "<tr><td>1488.80</td><td>505</td></tr>",
                            "<tr><td>1497.00</td><td>506</td></tr>",
                            "<tr><td>1498.35</td><td>507</td></tr>",
                            "<tr><td>1500.00</td><td>508</td></tr>",
                            "<tr><td>1501.09</td><td>509</td></tr>",
                            "<tr><td>1503.00</td><td>510</td></tr>",
                            "<tr><td>1503.60</td><td>511</td></tr>",
                            "<tr><td>1504.50</td><td>512</td></tr>",
                            "<tr><td>1504.65</td><td>513</td></tr>",
                            "<tr><td>1505.18</td><td>514</td></tr>",
                            "<tr><td>1512.00</td><td>515</td></tr>",
                            "<tr><td>1515.60</td><td>516</td></tr>",
                            "<tr><td>1531.08</td><td>517</td></tr>",
                            "<tr><td>1535.00</td><td>518</td></tr>",
                            "<tr><td>1536.80</td><td>519</td></tr>",
                            "<tr><td>1538.70</td><td>520</td></tr>",
                            "<tr><td>1539.00</td><td>521</td></tr>",
                            "<tr><td>1546.30</td><td>522</td></tr>",
                            "<tr><td>1549.60</td><td>523</td></tr>",
                            "<tr><td>1552.60</td><td>524</td></tr>",
                            "<tr><td>1553.50</td><td>525</td></tr>",
                            "<tr><td>1570.00</td><td>526</td></tr>",
                            "<tr><td>1575.00</td><td>527</td></tr>",
                            "<tr><td>1584.00</td><td>528</td></tr>",
                            "<tr><td>1590.56</td><td>529</td></tr>",
                            "<tr><td>1591.25</td><td>530</td></tr>",
                            "<tr><td>1609.28</td><td>531</td></tr>",
                            "<tr><td>1614.80</td><td>532</td></tr>",
                            "<tr><td>1614.88</td><td>533</td></tr>",
                            "<tr><td>1618.88</td><td>534</td></tr>",
                            "<tr><td>1622.40</td><td>535</td></tr>",
                            "<tr><td>1624.50</td><td>536</td></tr>",
                            "<tr><td>1629.98</td><td>537</td></tr>",
                            "<tr><td>1630.00</td><td>538</td></tr>",
                            "<tr><td>1631.48</td><td>539</td></tr>",
                            "<tr><td>1638.40</td><td>540</td></tr>",
                            "<tr><td>1641.00</td><td>541</td></tr>",
                            "<tr><td>1644.60</td><td>542</td></tr>",
                            "<tr><td>1645.00</td><td>543</td></tr>",
                            "<tr><td>1649.00</td><td>544</td></tr>",
                            "<tr><td>1659.20</td><td>545</td></tr>",
                            "<tr><td>1659.54</td><td>546</td></tr>",
                            "<tr><td>1677.30</td><td>547</td></tr>",
                            "<tr><td>1684.28</td><td>548</td></tr>",
                            "<tr><td>1689.78</td><td>549</td></tr>",
                            "<tr><td>1692.00</td><td>550</td></tr>",
                            "<tr><td>1692.80</td><td>551</td></tr>",
                            "<tr><td>1701.00</td><td>552</td></tr>",
                            "<tr><td>1707.84</td><td>553</td></tr>",
                            "<tr><td>1727.50</td><td>554</td></tr>",
                            "<tr><td>1728.53</td><td>555</td></tr>",
                            "<tr><td>1733.06</td><td>556</td></tr>",
                            "<tr><td>1743.36</td><td>557</td></tr>",
                            "<tr><td>1754.50</td><td>558</td></tr>",
                            "<tr><td>1755.00</td><td>559</td></tr>",
                            "<tr><td>1761.00</td><td>560</td></tr>",
                            "<tr><td>1762.00</td><td>561</td></tr>",
                            "<tr><td>1762.70</td><td>562</td></tr>",
                            "<tr><td>1764.00</td><td>563</td></tr>",
                            "<tr><td>1765.60</td><td>564</td></tr>",
                            "<tr><td>1768.00</td><td>565</td></tr>",
                            "<tr><td>1773.00</td><td>566</td></tr>",
                            "<tr><td>1779.20</td><td>567</td></tr>",
                            "<tr><td>1786.88</td><td>568</td></tr>",
                            "<tr><td>1788.45</td><td>569</td></tr>",
                            "<tr><td>1788.63</td><td>570</td></tr>",
                            "<tr><td>1792.00</td><td>571</td></tr>",
                            "<tr><td>1792.80</td><td>572</td></tr>",
                            "<tr><td>1809.75</td><td>573</td></tr>",
                            "<tr><td>1810.00</td><td>574</td></tr>",
                            "<tr><td>1811.10</td><td>575</td></tr>",
                            "<tr><td>1814.80</td><td>576</td></tr>",
                            "<tr><td>1820.80</td><td>577</td></tr>",
                            "<tr><td>1823.80</td><td>578</td></tr>",
                            "<tr><td>1829.76</td><td>579</td></tr>",
                            "<tr><td>1830.78</td><td>580</td></tr>",
                            "<tr><td>1832.80</td><td>581</td></tr>",
                            "<tr><td>1835.70</td><td>582</td></tr>",
                            "<tr><td>1838.00</td><td>583</td></tr>",
                            "<tr><td>1838.20</td><td>584</td></tr>",
                            "<tr><td>1840.64</td><td>585</td></tr>",
                            "<tr><td>1850.00</td><td>586</td></tr>",
                            "<tr><td>1863.40</td><td>587</td></tr>",
                            "<tr><td>1873.80</td><td>588</td></tr>",
                            "<tr><td>1885.00</td><td>589</td></tr>",
                            "<tr><td>1887.60</td><td>590</td></tr>",
                            "<tr><td>1890.50</td><td>591</td></tr>",
                            "<tr><td>1892.25</td><td>592</td></tr>",
                            "<tr><td>1893.00</td><td>593</td></tr>",
                            "<tr><td>1903.80</td><td>594</td></tr>",
                            "<tr><td>1912.85</td><td>595</td></tr>",
                            "<tr><td>1920.60</td><td>596</td></tr>",
                            "<tr><td>1924.25</td><td>597</td></tr>",
                            "<tr><td>1930.40</td><td>598</td></tr>",
                            "<tr><td>1936.00</td><td>599</td></tr>",
                            "<tr><td>1938.38</td><td>600</td></tr>",
                            "<tr><td>1940.85</td><td>601</td></tr>",
                            "<tr><td>1942.00</td><td>602</td></tr>",
                            "<tr><td>1946.52</td><td>603</td></tr>",
                            "<tr><td>1948.50</td><td>604</td></tr>",
                            "<tr><td>1955.13</td><td>605</td></tr>",
                            "<tr><td>1966.81</td><td>606</td></tr>",
                            "<tr><td>1974.00</td><td>607</td></tr>",
                            "<tr><td>1979.23</td><td>608</td></tr>",
                            "<tr><td>1990.00</td><td>609</td></tr>",
                            "<tr><td>1994.40</td><td>610</td></tr>",
                            "<tr><td>1994.52</td><td>611</td></tr>",
                            "<tr><td>2018.50</td><td>612</td></tr>",
                            "<tr><td>2023.38</td><td>613</td></tr>",
                            "<tr><td>2027.08</td><td>614</td></tr>",
                            "<tr><td>2030.40</td><td>615</td></tr>",
                            "<tr><td>2036.16</td><td>616</td></tr>",
                            "<tr><td>2037.28</td><td>617</td></tr>",
                            "<tr><td>2046.24</td><td>618</td></tr>",
                            "<tr><td>2048.21</td><td>619</td></tr>",
                            "<tr><td>2048.50</td><td>620</td></tr>",
                            "<tr><td>2052.50</td><td>621</td></tr>",
                            "<tr><td>2054.00</td><td>622</td></tr>",
                            "<tr><td>2058.46</td><td>623</td></tr>",
                            "<tr><td>2071.20</td><td>624</td></tr>",
                            "<tr><td>2082.00</td><td>625</td></tr>",
                            "<tr><td>2090.00</td><td>626</td></tr>",
                            "<tr><td>2090.88</td><td>627</td></tr>",
                            "<tr><td>2094.30</td><td>628</td></tr>",
                            "<tr><td>2097.60</td><td>629</td></tr>",
                            "<tr><td>2122.92</td><td>630</td></tr>",
                            "<tr><td>2123.20</td><td>631</td></tr>",
                            "<tr><td>2142.90</td><td>632</td></tr>",
                            "<tr><td>2147.40</td><td>633</td></tr>",
                            "<tr><td>2158.00</td><td>634</td></tr>",
                            "<tr><td>2160.00</td><td>635</td></tr>",
                            "<tr><td>2169.00</td><td>636</td></tr>",
                            "<tr><td>2196.00</td><td>637</td></tr>",
                            "<tr><td>2205.75</td><td>638</td></tr>",
                            "<tr><td>2220.00</td><td>639</td></tr>",
                            "<tr><td>2222.20</td><td>640</td></tr>",
                            "<tr><td>2222.40</td><td>641</td></tr>",
                            "<tr><td>2227.89</td><td>642</td></tr>",
                            "<tr><td>2233.00</td><td>643</td></tr>",
                            "<tr><td>2237.50</td><td>644</td></tr>",
                            "<tr><td>2255.50</td><td>645</td></tr>",
                            "<tr><td>2278.40</td><td>646</td></tr>",
                            "<tr><td>2285.00</td><td>647</td></tr>",
                            "<tr><td>2286.00</td><td>648</td></tr>",
                            "<tr><td>2296.00</td><td>649</td></tr>",
                            "<tr><td>2301.75</td><td>650</td></tr>",
                            "<tr><td>2310.00</td><td>651</td></tr>",
                            "<tr><td>2311.70</td><td>652</td></tr>",
                            "<tr><td>2314.20</td><td>653</td></tr>",
                            "<tr><td>2318.24</td><td>654</td></tr>",
                            "<tr><td>2341.36</td><td>655</td></tr>",
                            "<tr><td>2362.25</td><td>656</td></tr>",
                            "<tr><td>2381.05</td><td>657</td></tr>",
                            "<tr><td>2388.50</td><td>658</td></tr>",
                            "<tr><td>2390.40</td><td>659</td></tr>",
                            "<tr><td>2393.50</td><td>660</td></tr>",
                            "<tr><td>2436.18</td><td>661</td></tr>",
                            "<tr><td>2444.31</td><td>662</td></tr>",
                            "<tr><td>2465.25</td><td>663</td></tr>",
                            "<tr><td>2467.00</td><td>664</td></tr>",
                            "<tr><td>2490.50</td><td>665</td></tr>",
                            "<tr><td>2505.60</td><td>666</td></tr>",
                            "<tr><td>2518.00</td><td>667</td></tr>",
                            "<tr><td>2519.00</td><td>668</td></tr>",
                            "<tr><td>2545.00</td><td>669</td></tr>",
                            "<tr><td>2550.00</td><td>670</td></tr>",
                            "<tr><td>2556.95</td><td>671</td></tr>",
                            "<tr><td>2603.00</td><td>672</td></tr>",
                            "<tr><td>2622.76</td><td>673</td></tr>",
                            "<tr><td>2633.90</td><td>674</td></tr>",
                            "<tr><td>2645.00</td><td>675</td></tr>",
                            "<tr><td>2684.00</td><td>676</td></tr>",
                            "<tr><td>2684.40</td><td>677</td></tr>",
                            "<tr><td>2697.50</td><td>678</td></tr>",
                            "<tr><td>2708.80</td><td>679</td></tr>",
                            "<tr><td>2713.50</td><td>680</td></tr>",
                            "<tr><td>2720.05</td><td>681</td></tr>",
                            "<tr><td>2731.88</td><td>682</td></tr>",
                            "<tr><td>2753.10</td><td>683</td></tr>",
                            "<tr><td>2761.94</td><td>684</td></tr>",
                            "<tr><td>2769.00</td><td>685</td></tr>",
                            "<tr><td>2772.00</td><td>686</td></tr>",
                            "<tr><td>2775.00</td><td>687</td></tr>",
                            "<tr><td>2775.05</td><td>688</td></tr>",
                            "<tr><td>2812.00</td><td>689</td></tr>",
                            "<tr><td>2825.30</td><td>690</td></tr>",
                            "<tr><td>2826.00</td><td>691</td></tr>",
                            "<tr><td>2827.90</td><td>692</td></tr>",
                            "<tr><td>2835.00</td><td>693</td></tr>",
                            "<tr><td>2844.50</td><td>694</td></tr>",
                            "<tr><td>2864.50</td><td>695</td></tr>",
                            "<tr><td>2900.00</td><td>696</td></tr>",
                            "<tr><td>2917.00</td><td>697</td></tr>",
                            "<tr><td>2924.80</td><td>698</td></tr>",
                            "<tr><td>2942.81</td><td>699</td></tr>",
                            "<tr><td>2944.40</td><td>700</td></tr>",
                            "<tr><td>2966.50</td><td>701</td></tr>",
                            "<tr><td>2984.00</td><td>702</td></tr>",
                            "<tr><td>3016.00</td><td>703</td></tr>",
                            "<tr><td>3026.85</td><td>704</td></tr>",
                            "<tr><td>3055.00</td><td>705</td></tr>",
                            "<tr><td>3063.00</td><td>706</td></tr>",
                            "<tr><td>3082.00</td><td>707</td></tr>",
                            "<tr><td>3090.00</td><td>708</td></tr>",
                            "<tr><td>3118.00</td><td>709</td></tr>",
                            "<tr><td>3120.00</td><td>710</td></tr>",
                            "<tr><td>3127.50</td><td>711</td></tr>",
                            "<tr><td>3160.60</td><td>712</td></tr>",
                            "<tr><td>3163.20</td><td>713</td></tr>",
                            "<tr><td>3192.65</td><td>714</td></tr>",
                            "<tr><td>3232.80</td><td>715</td></tr>",
                            "<tr><td>3354.00</td><td>716</td></tr>",
                            "<tr><td>3424.00</td><td>717</td></tr>",
                            "<tr><td>3436.44</td><td>718</td></tr>",
                            "<tr><td>3463.00</td><td>719</td></tr>",
                            "<tr><td>3471.68</td><td>720</td></tr>",
                            "<tr><td>3523.40</td><td>721</td></tr>",
                            "<tr><td>3536.60</td><td>722</td></tr>",
                            "<tr><td>3554.28</td><td>723</td></tr>",
                            "<tr><td>3574.80</td><td>724</td></tr>",
                            "<tr><td>3584.00</td><td>725</td></tr>",
                            "<tr><td>3597.90</td><td>726</td></tr>",
                            "<tr><td>3603.22</td><td>727</td></tr>",
                            "<tr><td>3687.00</td><td>728</td></tr>",
                            "<tr><td>3740.00</td><td>729</td></tr>",
                            "<tr><td>3741.30</td><td>730</td></tr>",
                            "<tr><td>3812.70</td><td>731</td></tr>",
                            "<tr><td>3815.25</td><td>732</td></tr>",
                            "<tr><td>3849.66</td><td>733</td></tr>",
                            "<tr><td>3868.60</td><td>734</td></tr>",
                            "<tr><td>3891.00</td><td>735</td></tr>",
                            "<tr><td>4011.75</td><td>736</td></tr>",
                            "<tr><td>4109.70</td><td>737</td></tr>",
                            "<tr><td>4150.05</td><td>738</td></tr>",
                            "<tr><td>4180.00</td><td>739</td></tr>",
                            "<tr><td>4288.85</td><td>740</td></tr>",
                            "<tr><td>4330.40</td><td>741</td></tr>",
                            "<tr><td>4337.00</td><td>742</td></tr>",
                            "<tr><td>4371.60</td><td>743</td></tr>",
                            "<tr><td>4422.00</td><td>744</td></tr>",
                            "<tr><td>4441.25</td><td>745</td></tr>",
                            "<tr><td>4451.70</td><td>746</td></tr>",
                            "<tr><td>4464.60</td><td>747</td></tr>",
                            "<tr><td>4529.80</td><td>748</td></tr>",
                            "<tr><td>4578.43</td><td>749</td></tr>",
                            "<tr><td>4581.00</td><td>750</td></tr>",
                            "<tr><td>4666.94</td><td>751</td></tr>",
                            "<tr><td>4680.90</td><td>752</td></tr>",
                            "<tr><td>4705.50</td><td>753</td></tr>",
                            "<tr><td>4707.54</td><td>754</td></tr>",
                            "<tr><td>4725.00</td><td>755</td></tr>",
                            "<tr><td>4807.00</td><td>756</td></tr>",
                            "<tr><td>4813.50</td><td>757</td></tr>",
                            "<tr><td>4825.00</td><td>758</td></tr>",
                            "<tr><td>4895.44</td><td>759</td></tr>",
                            "<tr><td>4899.20</td><td>760</td></tr>",
                            "<tr><td>4924.14</td><td>761</td></tr>",
                            "<tr><td>4931.92</td><td>762</td></tr>",
                            "<tr><td>4960.90</td><td>763</td></tr>",
                            "<tr><td>4985.50</td><td>764</td></tr>",
                            "<tr><td>5218.00</td><td>765</td></tr>",
                            "<tr><td>5256.50</td><td>766</td></tr>",
                            "<tr><td>5275.72</td><td>767</td></tr>",
                            "<tr><td>5398.73</td><td>768</td></tr>",
                            "<tr><td>5502.11</td><td>769</td></tr>",
                            "<tr><td>5510.59</td><td>770</td></tr>",
                            "<tr><td>6200.55</td><td>771</td></tr>",
                            "<tr><td>6306.24</td><td>772</td></tr>",
                            "<tr><td>6375.00</td><td>773</td></tr>",
                            "<tr><td>6379.40</td><td>774</td></tr>",
                            "<tr><td>6475.40</td><td>775</td></tr>",
                            "<tr><td>6635.28</td><td>776</td></tr>",
                            "<tr><td>6750.00</td><td>777</td></tr>",
                            "<tr><td>7390.20</td><td>778</td></tr>",
                            "<tr><td>8446.45</td><td>779</td></tr>",
                            "<tr><td>8593.28</td><td>780</td></tr>",
                            "<tr><td>8623.45</td><td>781</td></tr>",
                            "<tr><td>8902.50</td><td>782</td></tr>",
                            "<tr><td>9194.56</td><td>783</td></tr>",
                            "<tr><td>9210.90</td><td>784</td></tr>",
                            "<tr><td>9921.30</td><td>785</td></tr>",
                            "<tr><td>10164.80</td><td>786</td></tr>",
                            "<tr><td>10191.70</td><td>787</td></tr>",
                            "<tr><td>10495.60</td><td>788</td></tr>",
                            "<tr><td>10835.24</td><td>789</td></tr>",
                            "<tr><td>10952.85</td><td>790</td></tr>",
                            "<tr><td>11188.40</td><td>791</td></tr>",
                            "<tr><td>11380.00</td><td>792</td></tr>",
                            "<tr><td>12615.05</td><td>793</td></tr>",
                            "<tr><td>15810.00</td><td>794</td></tr>",
                            "<tr><td>16387.50</td><td>795</td></tr>",
                            "</table>"
                        ]
                    }
                }
            ],
            "execution_count": 2
        }
    ]
}